{
 "cells": [
  {
   "cell_type": "markdown",
   "id": "cecfaf12",
   "metadata": {},
   "source": [
    "# Projeto de Teoria dos Grafos"
   ]
  },
  {
   "cell_type": "markdown",
   "id": "33b21f15",
   "metadata": {},
   "source": [
    "### Parte 01 - Entrada de Arquivo\n",
    "\n",
    "https://www.freecodecamp.org/news/with-open-in-python-with-statement-syntax-example/\n",
    "\n",
    "https://pythonhoje.wordpress.com/2018/02/12/python-3-files/\n",
    "\n",
    "https://www.w3schools.com/python/ref_file_readline.asp\n"
   ]
  },
  {
   "cell_type": "code",
   "execution_count": 1,
   "id": "4ddc1c3c",
   "metadata": {},
   "outputs": [],
   "source": [
    "def ler_grafo_txt(nome_arquivo):\n",
    "    grafo = {\"vertices\": [], \"arestas\": []}\n",
    "\n",
    "    with open(nome_arquivo, 'r') as arquivo:\n",
    "        tipo_grafo = arquivo.readline().strip() #lendo tipo de grafo D ou ND\n",
    "\n",
    "\n",
    "        for linha in arquivo: #lendo demais linhas pra guardar arestas e vertices\n",
    "            u, v = linha.strip().split(',') \n",
    "            grafo[\"vertices\"].extend([u, v])\n",
    "            grafo[\"arestas\"].append((u, v))\n",
    "\n",
    "\n",
    "#     grafo[\"vertices\"] = list(set(grafo[\"vertices\"])) # excluindo vertices duplicados\n",
    "    grafo[\"vertices\"] = sorted(list(set(grafo[\"vertices\"])))\n",
    "\n",
    "    print(\"Grafo:\", grafo)\n",
    "    print(\"Tipo de Grafo:\", tipo_grafo)\n",
    "    \n",
    "    return grafo, tipo_grafo"
   ]
  },
  {
   "cell_type": "markdown",
   "id": "0563d6a0",
   "metadata": {},
   "source": [
    "### Parte 01 - Armazenamento na estrutura de dados"
   ]
  },
  {
   "cell_type": "markdown",
   "id": "7988743a",
   "metadata": {},
   "source": [
    "Conceitos: https://algoritmosempython.com.br/cursos/algoritmos-python/algoritmos-grafos/representacao-grafos/\n",
    "\n",
    "\n",
    "Códigos: https://github.com/professordouglasmaioli/Aulas_de_Grafos/blob/main/Matriz_Adjacencias.py]"
   ]
  },
  {
   "cell_type": "code",
   "execution_count": 2,
   "id": "8bcec8c1",
   "metadata": {},
   "outputs": [],
   "source": [
    "def matriz_adjacencia(grafo, tipo_grafo):\n",
    "    num_vertices = len(grafo[\"vertices\"])\n",
    "    matriz = [[0] * num_vertices for _ in range(num_vertices)]\n",
    "\n",
    "    for aresta in grafo[\"arestas\"]:\n",
    "    #     print(\"\\nARESTA: \", aresta)\n",
    "        u_idx = grafo[\"vertices\"].index(aresta[0])\n",
    "        v_idx = grafo[\"vertices\"].index(aresta[1])\n",
    "    #     print(\"u_idx: \", u_idx)\n",
    "    #     print(\"v_idx: \", v_idx)\n",
    "\n",
    "        #D uma das posições recebe 1\n",
    "        if tipo_grafo == \"D\":\n",
    "            matriz[u_idx][v_idx] = 1\n",
    "        #ND cria uma matriz simétrica\n",
    "        elif tipo_grafo == \"ND\":\n",
    "            matriz[u_idx][v_idx] = 1\n",
    "            matriz[v_idx][u_idx] = 1\n",
    "            \n",
    "    return matriz"
   ]
  },
  {
   "cell_type": "code",
   "execution_count": 3,
   "id": "0662a306",
   "metadata": {},
   "outputs": [
    {
     "name": "stdout",
     "output_type": "stream",
     "text": [
      "Grafo: {'vertices': ['0', '1', '2', '3', '4'], 'arestas': [('4', '4'), ('1', '0'), ('3', '1'), ('2', '1'), ('2', '2'), ('4', '3'), ('1', '4'), ('3', '2')]}\n",
      "Tipo de Grafo: D\n"
     ]
    }
   ],
   "source": [
    "nome_arquivo = \"grafoD.txt\" \n",
    "grafo, tipo_grafo = ler_grafo_txt(nome_arquivo)\n",
    "matriz = matriz_adjacencia(grafo, tipo_grafo)"
   ]
  },
  {
   "cell_type": "code",
   "execution_count": null,
   "id": "0715b827",
   "metadata": {
    "scrolled": true
   },
   "outputs": [],
   "source": [
    "matriz"
   ]
  },
  {
   "cell_type": "markdown",
   "id": "a637eb6f",
   "metadata": {},
   "source": [
    "### Parte 01 - Apresentar se dois vértices vX e vY são ou não adjacentes"
   ]
  },
  {
   "cell_type": "code",
   "execution_count": null,
   "id": "5da54349",
   "metadata": {},
   "outputs": [],
   "source": [
    "def input_vertice(mensagem):\n",
    "    vertice = input(mensagem)\n",
    "    return vertice"
   ]
  },
  {
   "cell_type": "code",
   "execution_count": null,
   "id": "60f2483f",
   "metadata": {},
   "outputs": [],
   "source": [
    "def verifica_adjacentes(matriz, tipo_grafo):\n",
    "    men_u = 'Digite o primeiro vértice: '\n",
    "    men_v = 'Digite o segundo vértice: '\n",
    "    vertices = grafo[\"vertices\"]\n",
    "    \n",
    "    while True:\n",
    "        u = input_vertice(men_u)\n",
    "        if u in vertices:\n",
    "            break\n",
    "        else:\n",
    "            print(\"Vértice inválido. \\nPor favor, digite um dos seguites vértices: \", vertices)\n",
    "    \n",
    "    while True:\n",
    "        v = input_vertice(men_v)\n",
    "        if v in vertices:\n",
    "            break\n",
    "        else:\n",
    "            print(\"Vértice inválido. \\nPor favor, digite um dos seguites vértices: \", vertices)\n",
    "    u_idx = grafo[\"vertices\"].index(u)\n",
    "    v_idx = grafo[\"vertices\"].index(v)\n",
    "    \n",
    "    if tipo_grafo == \"D\":\n",
    "        if (matriz[u_idx][v_idx] == 1):\n",
    "            print('O vértice', u, 'é adjacente de', v)\n",
    "        else:\n",
    "            print('O vértice', u, 'não é adjacente de ', v)\n",
    "#         return matriz[u_idx][v_idx] == 1\n",
    "    elif tipo_grafo == \"ND\":\n",
    "        if (matriz[u_idx][v_idx] == 1 or matriz[v_idx][u_idx] == 1):\n",
    "            print('Os vértices', u, 'e', v, 'são adjacentes')\n",
    "        else:\n",
    "            print('O vértices', u, 'e', v, 'não são adjacentes')\n",
    "#         return matriz[u_idx][v_idx] == 1 or matriz[v_idx][u_idx] == 1"
   ]
  },
  {
   "cell_type": "code",
   "execution_count": null,
   "id": "d4c6c6a2",
   "metadata": {},
   "outputs": [],
   "source": [
    "# def verifica_adjacentes(matriz, u, v, tipo_grafo):\n",
    "# #     men_u = 'Digite o primeiro vértice: '\n",
    "# #     men_v = 'Digite o segundo vértice: '\n",
    "    \n",
    "#     vertices = grafo[\"vertices\"]\n",
    "    \n",
    "#     while True:\n",
    "#         u = input_vertice(men_u)\n",
    "#         if u in vertices:\n",
    "#             break\n",
    "#         else:\n",
    "#             print(\"Vértice inválido. \\nPor favor, digite um dos seguites vértices: \", vertices)\n",
    "    \n",
    "#     while True:\n",
    "#         v = input_vertice(men_v)\n",
    "#         if v in vertices:\n",
    "#             break\n",
    "#         else:\n",
    "#             print(\"Vértice inválido. \\nPor favor, digite um dos seguites vértices: \", vertices)\n",
    "    \n",
    "#     u_idx = grafo[\"vertices\"].index(u)\n",
    "#     v_idx = grafo[\"vertices\"].index(v)\n",
    "    \n",
    "#     if tipo_grafo == \"D\":\n",
    "#         return matriz[u_idx][v_idx] == 1\n",
    "#     elif tipo_grafo == \"ND\":\n",
    "#         return matriz[u_idx][v_idx] == 1 or matriz[v_idx][u_idx] == 1\n"
   ]
  },
  {
   "cell_type": "code",
   "execution_count": null,
   "id": "08458913",
   "metadata": {},
   "outputs": [],
   "source": [
    "matriz"
   ]
  },
  {
   "cell_type": "code",
   "execution_count": null,
   "id": "807ec4ca",
   "metadata": {
    "scrolled": false
   },
   "outputs": [],
   "source": [
    "verifica_adjacentes(matriz, tipo_grafo)"
   ]
  },
  {
   "cell_type": "markdown",
   "id": "328ad428",
   "metadata": {},
   "source": [
    "### Parte 01 - Calcular o grau de um vértice qualquer"
   ]
  },
  {
   "cell_type": "code",
   "execution_count": null,
   "id": "607e663f",
   "metadata": {},
   "outputs": [],
   "source": []
  },
  {
   "cell_type": "code",
   "execution_count": null,
   "id": "170beefc",
   "metadata": {},
   "outputs": [],
   "source": []
  },
  {
   "cell_type": "code",
   "execution_count": null,
   "id": "5aebded4",
   "metadata": {},
   "outputs": [],
   "source": [
    "grafo[\"vertices\"]"
   ]
  },
  {
   "cell_type": "code",
   "execution_count": null,
   "id": "ddb81ff5",
   "metadata": {},
   "outputs": [],
   "source": [
    "def calcular_grau(matriz, tipo_grafo):\n",
    "    men_u = 'Digite um vértice do grafo: '\n",
    "    vertices = grafo[\"vertices\"]\n",
    "    \n",
    "    while True:\n",
    "        u = input_vertice(men_u)\n",
    "        if u in vertices:\n",
    "            break\n",
    "        else:\n",
    "            print(\"Vértice inválido. \\nPor favor, digite um dos seguites vértices: \", vertices)\n",
    "    \n",
    "    u_idx = grafo[\"vertices\"].index(u)        \n",
    "    grau = sum(matriz[u_idx])\n",
    "    \n",
    "    if tipo_grafo == \"ND\":\n",
    "        grau += matriz[u_idx][u_idx]  # Se for não direcionado, conta o loop do vértice\n",
    "    return grau"
   ]
  },
  {
   "cell_type": "code",
   "execution_count": null,
   "id": "6d6dc83a",
   "metadata": {},
   "outputs": [],
   "source": [
    "matriz"
   ]
  },
  {
   "cell_type": "code",
   "execution_count": null,
   "id": "67d8d7ac",
   "metadata": {},
   "outputs": [],
   "source": [
    "print(\"Grau de vértice:\", calcular_grau(matriz, tipo_grafo))"
   ]
  },
  {
   "cell_type": "markdown",
   "id": "22dcd967",
   "metadata": {},
   "source": [
    "### Parte 01 - Buscar todos os vizinhos de vértice qualquer"
   ]
  },
  {
   "cell_type": "code",
   "execution_count": null,
   "id": "76e0a935",
   "metadata": {},
   "outputs": [],
   "source": [
    "u = input_vertices()"
   ]
  },
  {
   "cell_type": "code",
   "execution_count": null,
   "id": "92abbe9f",
   "metadata": {},
   "outputs": [],
   "source": [
    "def verifica_vizinhos(matriz, tipo_grafo):\n",
    "    men_u = 'Digite um vértice do grafo: '\n",
    "    vertices = grafo[\"vertices\"]\n",
    "    \n",
    "    while True:\n",
    "        u = input_vertice(men_u)\n",
    "        if u in vertices:\n",
    "            break\n",
    "        else:\n",
    "            print(\"Vértice inválido. \\nPor favor, digite um dos seguites vértices: \", vertices)\n",
    "    \n",
    "    u_idx = grafo[\"vertices\"].index(u)\n",
    "    vizinhos = []\n",
    "\n",
    "    # coloca vizinhos (linha da matriz)\n",
    "    for i in range(len(matriz[u_idx])):\n",
    "        if matriz[u_idx][i] == 1 and grafo[\"vertices\"][i] not in vizinhos:\n",
    "            vizinhos.append(grafo[\"vertices\"][i])\n",
    "\n",
    "    # coloca vizinhos (coluna da matriz) nos grafos não direcionado\n",
    "    if tipo_grafo == \"ND\": \n",
    "        for i in range(len(matriz)):\n",
    "            if matriz[i][u_idx] == 1 and grafo[\"vertices\"][i] not in vizinhos:\n",
    "                vizinhos.append(grafo[\"vertices\"][i])\n",
    "                \n",
    "    return vizinhos"
   ]
  },
  {
   "cell_type": "code",
   "execution_count": null,
   "id": "4eb337c6",
   "metadata": {},
   "outputs": [],
   "source": [
    "matriz"
   ]
  },
  {
   "cell_type": "code",
   "execution_count": null,
   "id": "7b84c9b8",
   "metadata": {},
   "outputs": [],
   "source": [
    "print(\"Vizinhos de vértice:\", verifica_vizinhos(matriz, tipo_grafo)) "
   ]
  },
  {
   "cell_type": "markdown",
   "id": "eb654cfe",
   "metadata": {},
   "source": [
    "### Parte 01 - Visitar todas as arestas do grafo"
   ]
  },
  {
   "cell_type": "code",
   "execution_count": null,
   "id": "2dd83632",
   "metadata": {},
   "outputs": [],
   "source": [
    "def visitar_arestas(matriz, tipo_grafo):\n",
    "    arestas_visitadas = []\n",
    "    for i in range(len(matriz)):\n",
    "        for j in range(len(matriz[i])):\n",
    "            if tipo_grafo == \"D\" and matriz[i][j] == 1:\n",
    "                arestas_visitadas.append((grafo[\"vertices\"][i], grafo[\"vertices\"][j]))\n",
    "            elif tipo_grafo == \"ND\" and (matriz[i][j] == 1 or matriz[j][i] == 1):\n",
    "                arestas_visitadas.append((grafo[\"vertices\"][i], grafo[\"vertices\"][j]))\n",
    "    return arestas_visitadas"
   ]
  },
  {
   "cell_type": "code",
   "execution_count": null,
   "id": "a4ca5abd",
   "metadata": {},
   "outputs": [],
   "source": [
    "print(\"Visitar arestas do grafo:\")\n",
    "for aresta in visitar_arestas(matriz, tipo_grafo):\n",
    "    print(aresta)"
   ]
  },
  {
   "cell_type": "code",
   "execution_count": null,
   "id": "c9c67cee",
   "metadata": {},
   "outputs": [],
   "source": []
  },
  {
   "cell_type": "code",
   "execution_count": null,
   "id": "9935a106",
   "metadata": {},
   "outputs": [],
   "source": [
    "print(\"Arestas do grafo visitadas: \", visitar_arestas(matriz, tipo_grafo))"
   ]
  },
  {
   "cell_type": "markdown",
   "id": "0be8f2f4",
   "metadata": {},
   "source": [
    "### Parte 01 - Aplicação em Busca"
   ]
  },
  {
   "cell_type": "code",
   "execution_count": 9,
   "id": "1cab6a35",
   "metadata": {},
   "outputs": [],
   "source": [
    "def dfs_nao_direcionado(grafo, visitados, vertice, componente, pilha):\n",
    "    visitados[vertice] = True\n",
    "    componente.append(vertice)\n",
    "    \n",
    "    if tipo_grafo == \"ND\":\n",
    "        for vizinho in range(len(grafo)):\n",
    "            if grafo[vertice][vizinho] == 1 and not visitados[vizinho]:\n",
    "                dfs_nao_direcionado(grafo, visitados, vizinho, componente, pilha)\n",
    "    else:\n",
    "        for vizinho in range(len(grafo)):\n",
    "            if grafo[vertice][vizinho] == 1 and not visitados[vizinho]:\n",
    "                dfs_dirigido(grafo, visitados, vizinho, pilha)\n",
    "\n",
    "        pilha.append(vertice)\n",
    "        \n",
    "\n",
    "def encontrar_componentes_conexos_nao_direcionados(grafo):\n",
    "    visitados = [False] * len(grafo)\n",
    "    componentes_conexos = []\n",
    "    \n",
    "    for vertice in range(len(grafo)):\n",
    "        if not visitados[vertice]:\n",
    "            componente = []\n",
    "            dfs_nao_direcionado(grafo, visitados, vertice, componente, pilha)\n",
    "            componentes_conexos.append(componente)\n",
    "    \n",
    "    return componentes_conexos\n",
    "\n",
    "# def dfs_dirigido(grafo, visitados, vertice, pilha):\n",
    "#     visitados[vertice] = True\n",
    "    \n",
    "#     for vizinho in range(len(grafo)):\n",
    "#         if grafo[vertice][vizinho] == 1 and not visitados[vizinho]:\n",
    "#             dfs_dirigido(grafo, visitados, vizinho, pilha)\n",
    "    \n",
    "#     pilha.append(vertice)\n",
    "\n",
    "# Grafo Transposto\n",
    "# def transpor_grafo(grafo):\n",
    "#     return [[grafo[j][i] for j in range(len(grafo))] for i in range(len(grafo))]\n",
    "\n",
    "def encontrar_ordem_vertices(grafo):\n",
    "    visitados = [False] * len(grafo)\n",
    "    ordem = []\n",
    "    \n",
    "    for vertice in range(len(grafo)):\n",
    "        if not visitados[vertice]:\n",
    "            dfs_nao_direcionado(grafo, visitados, vertice, ordem)\n",
    "    \n",
    "    return ordem\n",
    "\n",
    "def encontrar_componentes_fortemente_conexos(grafo):\n",
    "    visitados = [False] * len(grafo)\n",
    "    ordem = encontrar_ordem_vertices(grafo)\n",
    "    grafo_transposto = [[grafo[j][i] for j in range(len(grafo))] for i in range(len(grafo))]\n",
    "    componentes_conexos = []\n",
    "    \n",
    "    for vertice in reversed(ordem):\n",
    "        if not visitados[vertice]:\n",
    "            componente = []\n",
    "            dfs_dirigido(grafo_transposto, visitados, vertice, componente)\n",
    "            componentes_conexos.append(componente)\n",
    "    \n",
    "    return componentes_conexos\n"
   ]
  },
  {
   "cell_type": "code",
   "execution_count": 10,
   "id": "966bbac5",
   "metadata": {},
   "outputs": [
    {
     "ename": "TypeError",
     "evalue": "dfs_nao_direcionado() missing 1 required positional argument: 'pilha'",
     "output_type": "error",
     "traceback": [
      "\u001b[1;31m---------------------------------------------------------------------------\u001b[0m",
      "\u001b[1;31mTypeError\u001b[0m                                 Traceback (most recent call last)",
      "Cell \u001b[1;32mIn[10], line 5\u001b[0m\n\u001b[0;32m      3\u001b[0m     \u001b[38;5;28mprint\u001b[39m(\u001b[38;5;124m\"\u001b[39m\u001b[38;5;124mComponentes Conexos em Grafo Não Direcionado:\u001b[39m\u001b[38;5;124m\"\u001b[39m, componentes_nao_direcionados)\n\u001b[0;32m      4\u001b[0m \u001b[38;5;28;01melif\u001b[39;00m tipo_grafo \u001b[38;5;241m==\u001b[39m \u001b[38;5;124m\"\u001b[39m\u001b[38;5;124mD\u001b[39m\u001b[38;5;124m\"\u001b[39m:\n\u001b[1;32m----> 5\u001b[0m     componentes_fortemente_conexos \u001b[38;5;241m=\u001b[39m encontrar_componentes_fortemente_conexos(matriz)\n\u001b[0;32m      6\u001b[0m     \u001b[38;5;28mprint\u001b[39m(\u001b[38;5;124m\"\u001b[39m\u001b[38;5;124mComponentes Fortemente Conexos em Grafo Direcionado:\u001b[39m\u001b[38;5;124m\"\u001b[39m, componentes_fortemente_conexos)\n",
      "Cell \u001b[1;32mIn[9], line 54\u001b[0m, in \u001b[0;36mencontrar_componentes_fortemente_conexos\u001b[1;34m(grafo)\u001b[0m\n\u001b[0;32m     52\u001b[0m \u001b[38;5;28;01mdef\u001b[39;00m \u001b[38;5;21mencontrar_componentes_fortemente_conexos\u001b[39m(grafo):\n\u001b[0;32m     53\u001b[0m     visitados \u001b[38;5;241m=\u001b[39m [\u001b[38;5;28;01mFalse\u001b[39;00m] \u001b[38;5;241m*\u001b[39m \u001b[38;5;28mlen\u001b[39m(grafo)\n\u001b[1;32m---> 54\u001b[0m     ordem \u001b[38;5;241m=\u001b[39m encontrar_ordem_vertices(grafo)\n\u001b[0;32m     55\u001b[0m     grafo_transposto \u001b[38;5;241m=\u001b[39m [[grafo[j][i] \u001b[38;5;28;01mfor\u001b[39;00m j \u001b[38;5;129;01min\u001b[39;00m \u001b[38;5;28mrange\u001b[39m(\u001b[38;5;28mlen\u001b[39m(grafo))] \u001b[38;5;28;01mfor\u001b[39;00m i \u001b[38;5;129;01min\u001b[39;00m \u001b[38;5;28mrange\u001b[39m(\u001b[38;5;28mlen\u001b[39m(grafo))]\n\u001b[0;32m     56\u001b[0m     componentes_conexos \u001b[38;5;241m=\u001b[39m []\n",
      "Cell \u001b[1;32mIn[9], line 48\u001b[0m, in \u001b[0;36mencontrar_ordem_vertices\u001b[1;34m(grafo)\u001b[0m\n\u001b[0;32m     46\u001b[0m \u001b[38;5;28;01mfor\u001b[39;00m vertice \u001b[38;5;129;01min\u001b[39;00m \u001b[38;5;28mrange\u001b[39m(\u001b[38;5;28mlen\u001b[39m(grafo)):\n\u001b[0;32m     47\u001b[0m     \u001b[38;5;28;01mif\u001b[39;00m \u001b[38;5;129;01mnot\u001b[39;00m visitados[vertice]:\n\u001b[1;32m---> 48\u001b[0m         dfs_nao_direcionado(grafo, visitados, vertice, ordem)\n\u001b[0;32m     50\u001b[0m \u001b[38;5;28;01mreturn\u001b[39;00m ordem\n",
      "\u001b[1;31mTypeError\u001b[0m: dfs_nao_direcionado() missing 1 required positional argument: 'pilha'"
     ]
    }
   ],
   "source": [
    "if tipo_grafo == \"ND\":\n",
    "    componentes_nao_direcionados = encontrar_componentes_conexos_nao_direcionados(matriz)\n",
    "    print(\"Componentes Conexos em Grafo Não Direcionado:\", componentes_nao_direcionados)\n",
    "elif tipo_grafo == \"D\":\n",
    "    componentes_fortemente_conexos = encontrar_componentes_fortemente_conexos(matriz)\n",
    "    print(\"Componentes Fortemente Conexos em Grafo Direcionado:\", componentes_fortemente_conexos)"
   ]
  },
  {
   "cell_type": "code",
   "execution_count": null,
   "id": "1fcdd263",
   "metadata": {},
   "outputs": [],
   "source": [
    "def dfs(grafo, visitados, vertice, pilha=None):\n",
    "    visitados[vertice] = True\n",
    "    componente = []\n",
    "    if pilha is not None:\n",
    "        pilha.append(vertice)\n",
    "    componente.append(vertice)\n",
    "\n",
    "    for vizinho in range(len(grafo)):\n",
    "        if grafo[vertice][vizinho] == 1 and not visitados[vizinho]:\n",
    "            dfs(grafo, visitados, vizinho, pilha)\n",
    "\n",
    "    return componente if pilha is None else None\n",
    "\n",
    "def encontrar_componentes(grafo, tipo):\n",
    "    visitados = [False] * len(grafo)\n",
    "    componentes = []\n",
    "    \n",
    "    if tipo == \"ND\":\n",
    "        for vertice in range(len(grafo)):\n",
    "            if not visitados[vertice]:\n",
    "                componentes.append(dfs(grafo, visitados, vertice))\n",
    "        print(\"Componentes Conexos em Grafo Não Direcionado:\", componentes)\n",
    "    \n",
    "    elif tipo == \"D\":\n",
    "        ordem = []\n",
    "        for vertice in range(len(grafo)):\n",
    "            if not visitados[vertice]:\n",
    "                dfs(grafo, visitados, vertice, ordem)\n",
    "        grafo_transposto = [[grafo[j][i] for j in range(len(grafo))] for i in range(len(grafo))]\n",
    "        visitados = [False] * len(grafo)\n",
    "        componentes = []\n",
    "        for vertice in reversed(ordem):\n",
    "            if not visitados[vertice]:\n",
    "                componentes.append(dfs(grafo_transposto, visitados, vertice))\n",
    "        print(\"Componentes Fortemente Conexos em Grafo Direcionado:\", componentes)\n",
    "\n",
    "# tipo_grafo = \"ND\"  # Define o tipo do grafo: \"ND\" para não direcionado, \"D\" para dirigido\n",
    "# matriz = [[0, 1, 0, 0, 1],\n",
    "#           [1, 0, 1, 1, 0],\n",
    "#           [0, 1, 0, 1, 0],\n",
    "#           [0, 1, 1, 0, 0],\n",
    "#           [1, 0, 0, 0, 0]]\n",
    "\n",
    "encontrar_componentes(matriz, tipo_grafo)\n"
   ]
  },
  {
   "cell_type": "markdown",
   "id": "935a873c",
   "metadata": {},
   "source": [
    "### Parte 02 - Leitura de um novo arquivo de texto gerado a partir do grafo armazenado"
   ]
  },
  {
   "cell_type": "code",
   "execution_count": null,
   "id": "bb6d2461",
   "metadata": {},
   "outputs": [],
   "source": [
    "matriz"
   ]
  },
  {
   "cell_type": "code",
   "execution_count": null,
   "id": "dced0b13",
   "metadata": {},
   "outputs": [],
   "source": [
    "encontrar_componentes_conexos(matriz, tipo_grafo)"
   ]
  },
  {
   "cell_type": "markdown",
   "id": "a02115ee",
   "metadata": {},
   "source": [
    "### Parte 02 - Relatório"
   ]
  },
  {
   "cell_type": "code",
   "execution_count": null,
   "id": "5b67c2eb",
   "metadata": {},
   "outputs": [],
   "source": [
    "def dfs_nao_direcionado(grafo, visitados, vertice, componente):\n",
    "    visitados[vertice] = True\n",
    "    componente.append(vertice)\n",
    "    \n",
    "    for vizinho in range(len(grafo)):\n",
    "        if grafo[vertice][vizinho] == 1 and not visitados[vizinho]:\n",
    "            dfs_nao_direcionado(grafo, visitados, vizinho, componente)\n",
    "\n",
    "def dfs_dirigido(grafo, visitados, vertice, pilha):\n",
    "    visitados[vertice] = True\n",
    "    \n",
    "    for vizinho in range(len(grafo)):\n",
    "        if grafo[vertice][vizinho] == 1 and not visitados[vizinho]:\n",
    "            dfs_dirigido(grafo, visitados, vizinho, pilha)\n",
    "    \n",
    "    pilha.append(vertice)\n",
    "\n",
    "def encontrar_componentes_conexos_nao_direcionados(grafo):\n",
    "    visitados = [False] * len(grafo)\n",
    "    componentes_conexos = []\n",
    "    \n",
    "    for vertice in range(len(grafo)):\n",
    "        if not visitados[vertice]:\n",
    "            componente = []\n",
    "            dfs_nao_direcionado(grafo, visitados, vertice, componente)\n",
    "            componentes_conexos.append(componente)\n",
    "    \n",
    "    return componentes_conexos\n",
    "\n",
    "def encontrar_componentes_fortemente_conexos(grafo):\n",
    "    visitados = [False] * len(grafo)\n",
    "    pilha = []\n",
    "    componentes_conexos = []\n",
    "    \n",
    "    # DFS para preencher a pilha\n",
    "    def dfs(vertice):\n",
    "        visitados[vertice] = True\n",
    "        for vizinho in range(len(grafo)):\n",
    "            if grafo[vertice][vizinho] == 1 and not visitados[vizinho]:\n",
    "                dfs(vizinho)\n",
    "        pilha.append(vertice)\n",
    "    \n",
    "    # Executa o DFS para preencher a pilha\n",
    "    for vertice in range(len(grafo)):\n",
    "        if not visitados[vertice]:\n",
    "            dfs(vertice)\n",
    "    \n",
    "    # Transposição do grafo\n",
    "    grafo_transposto = [[grafo[j][i] for j in range(len(grafo))] for i in range(len(grafo))]\n",
    "    \n",
    "    # Reinicia a lista de visitados\n",
    "    visitados = [False] * len(grafo)\n",
    "    \n",
    "    # DFS no grafo transposto usando a pilha\n",
    "    while pilha:\n",
    "        componente = []\n",
    "        vertice = pilha.pop()\n",
    "        if not visitados[vertice]:\n",
    "            dfs_dirigido(grafo_transposto, visitados, vertice, componente)\n",
    "            componentes_conexos.append(componente)\n",
    "    \n",
    "    return componentes_conexos\n",
    "\n",
    "# Exemplo de utilização:\n",
    "\n",
    "if tipo_grafo == \"ND\":\n",
    "    componentes_nao_direcionados = encontrar_componentes_conexos_nao_direcionados(matriz)\n",
    "    print(\"Componentes Conexos em Grafo Não Direcionado:\", componentes_nao_direcionados)\n",
    "elif tipo_grafo == \"D\":\n",
    "    componentes_fortemente_conexos = encontrar_componentes_fortemente_conexos(matriz)\n",
    "    print(\"Componentes Fortemente Conexos em Grafo Direcionado:\", componentes_fortemente_conexos)\n"
   ]
  },
  {
   "cell_type": "code",
   "execution_count": null,
   "id": "4c425e97",
   "metadata": {},
   "outputs": [],
   "source": [
    "matriz"
   ]
  },
  {
   "cell_type": "code",
   "execution_count": null,
   "id": "b7b778b0",
   "metadata": {},
   "outputs": [],
   "source": []
  }
 ],
 "metadata": {
  "kernelspec": {
   "display_name": "Python 3 (ipykernel)",
   "language": "python",
   "name": "python3"
  },
  "language_info": {
   "codemirror_mode": {
    "name": "ipython",
    "version": 3
   },
   "file_extension": ".py",
   "mimetype": "text/x-python",
   "name": "python",
   "nbconvert_exporter": "python",
   "pygments_lexer": "ipython3",
   "version": "3.11.5"
  }
 },
 "nbformat": 4,
 "nbformat_minor": 5
}
