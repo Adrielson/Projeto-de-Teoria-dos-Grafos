{
 "cells": [
  {
   "cell_type": "markdown",
   "id": "cecfaf12",
   "metadata": {},
   "source": [
    "# Projeto de Teoria dos Grafos"
   ]
  },
  {
   "cell_type": "markdown",
   "id": "33b21f15",
   "metadata": {},
   "source": [
    "### Parte 01 - Entrada de Arquivo\n",
    "\n",
    "https://www.freecodecamp.org/news/with-open-in-python-with-statement-syntax-example/\n",
    "\n",
    "https://pythonhoje.wordpress.com/2018/02/12/python-3-files/\n",
    "\n",
    "https://www.w3schools.com/python/ref_file_readline.asp\n"
   ]
  },
  {
   "cell_type": "code",
   "execution_count": 3,
   "id": "4ddc1c3c",
   "metadata": {},
   "outputs": [],
   "source": [
    "def ler_grafo_txt(nome_arquivo):\n",
    "    grafo = {\"vertices\": [], \"arestas\": []}\n",
    "\n",
    "    with open(nome_arquivo, 'r') as arquivo:\n",
    "        tipo_grafo = arquivo.readline().strip() #lendo tipo de grafo D ou ND\n",
    "\n",
    "\n",
    "        for linha in arquivo: #lendo demais linhas pra guardar arestas e vertices\n",
    "            u, v = linha.strip().split(',') \n",
    "            grafo[\"vertices\"].extend([u, v])\n",
    "            grafo[\"arestas\"].append((u, v))\n",
    "\n",
    "\n",
    "#     grafo[\"vertices\"] = list(set(grafo[\"vertices\"])) # excluindo vertices duplicados\n",
    "    grafo[\"vertices\"] = sorted(list(set(grafo[\"vertices\"])))\n",
    "\n",
    "    print(\"Grafo:\", grafo)\n",
    "    print(\"Tipo de Grafo:\", tipo_grafo)\n",
    "    \n",
    "    return grafo, tipo_grafo"
   ]
  },
  {
   "cell_type": "markdown",
   "id": "0563d6a0",
   "metadata": {},
   "source": [
    "### Parte 01 - Armazenamento na estrutura de dados"
   ]
  },
  {
   "cell_type": "markdown",
   "id": "7988743a",
   "metadata": {},
   "source": [
    "Conceitos: https://algoritmosempython.com.br/cursos/algoritmos-python/algoritmos-grafos/representacao-grafos/\n",
    "\n",
    "\n",
    "Códigos: https://github.com/professordouglasmaioli/Aulas_de_Grafos/blob/main/Matriz_Adjacencias.py]"
   ]
  },
  {
   "cell_type": "code",
   "execution_count": null,
   "id": "8bcec8c1",
   "metadata": {},
   "outputs": [],
   "source": [
    "def matriz_adjacencia(grafo, tipo_grafo):\n",
    "    num_vertices = len(grafo[\"vertices\"])\n",
    "    matriz = [[0] * num_vertices for _ in range(num_vertices)]\n",
    "\n",
    "    for aresta in grafo[\"arestas\"]:\n",
    "    #     print(\"\\nARESTA: \", aresta)\n",
    "        u_idx = grafo[\"vertices\"].index(aresta[0])\n",
    "        v_idx = grafo[\"vertices\"].index(aresta[1])\n",
    "    #     print(\"u_idx: \", u_idx)\n",
    "    #     print(\"v_idx: \", v_idx)\n",
    "\n",
    "        #D uma das posições recebe 1\n",
    "        if tipo_grafo == \"D\":\n",
    "            matriz[u_idx][v_idx] = 1\n",
    "        #ND cria uma matriz simétrica\n",
    "        elif tipo_grafo == \"ND\":\n",
    "            matriz[u_idx][v_idx] = 1\n",
    "            matriz[v_idx][u_idx] = 1\n",
    "            \n",
    "    return matriz"
   ]
  },
  {
   "cell_type": "code",
   "execution_count": 5,
   "id": "0662a306",
   "metadata": {},
   "outputs": [
    {
     "name": "stdout",
     "output_type": "stream",
     "text": [
      "Grafo: {'vertices': ['0', '1', '2', '3', '4', '5', '6'], 'arestas': [('1', '0'), ('3', '1'), ('2', '1'), ('2', '2'), ('5', '6'), ('0', '4'), ('2', '6')]}\n",
      "Tipo de Grafo: 4,4\n"
     ]
    }
   ],
   "source": [
    "nome_arquivo = \"grafoND.txt\" \n",
    "grafo, tipo_grafo = ler_grafo_txt(nome_arquivo)\n",
    "# matriz = matriz_adjacencia(grafo, tipo_grafo)"
   ]
  },
  {
   "cell_type": "code",
   "execution_count": null,
   "id": "0715b827",
   "metadata": {
    "scrolled": true
   },
   "outputs": [],
   "source": [
    "matriz"
   ]
  },
  {
   "cell_type": "markdown",
   "id": "a637eb6f",
   "metadata": {},
   "source": [
    "### Parte 01 - Apresentar se dois vértices vX e vY são ou não adjacentes"
   ]
  },
  {
   "cell_type": "code",
   "execution_count": null,
   "id": "5da54349",
   "metadata": {},
   "outputs": [],
   "source": [
    "def input_vertice(mensagem):\n",
    "    vertice = input(mensagem)\n",
    "    return vertice"
   ]
  },
  {
   "cell_type": "code",
   "execution_count": null,
   "id": "60f2483f",
   "metadata": {},
   "outputs": [],
   "source": [
    "def verifica_adjacentes(matriz, tipo_grafo):\n",
    "    men_u = 'Digite o primeiro vértice: '\n",
    "    men_v = 'Digite o segundo vértice: '\n",
    "    vertices = grafo[\"vertices\"]\n",
    "    \n",
    "    while True:\n",
    "        u = input_vertice(men_u)\n",
    "        if u in vertices:\n",
    "            break\n",
    "        else:\n",
    "            print(\"Vértice inválido. \\nPor favor, digite um dos seguites vértices: \", vertices)\n",
    "    \n",
    "    while True:\n",
    "        v = input_vertice(men_v)\n",
    "        if v in vertices:\n",
    "            break\n",
    "        else:\n",
    "            print(\"Vértice inválido. \\nPor favor, digite um dos seguites vértices: \", vertices)\n",
    "    u_idx = grafo[\"vertices\"].index(u)\n",
    "    v_idx = grafo[\"vertices\"].index(v)\n",
    "    \n",
    "    if tipo_grafo == \"D\":\n",
    "        if (matriz[u_idx][v_idx] == 1):\n",
    "            print('O vértice', u, 'é adjacente de', v)\n",
    "        else:\n",
    "            print('O vértice', u, 'não é adjacente de ', v)\n",
    "#         return matriz[u_idx][v_idx] == 1\n",
    "    elif tipo_grafo == \"ND\":\n",
    "        if (matriz[u_idx][v_idx] == 1 or matriz[v_idx][u_idx] == 1):\n",
    "            print('Os vértices', u, 'e', v, 'são adjacentes')\n",
    "        else:\n",
    "            print('O vértices', u, 'e', v, 'não são adjacentes')\n",
    "#         return matriz[u_idx][v_idx] == 1 or matriz[v_idx][u_idx] == 1"
   ]
  },
  {
   "cell_type": "code",
   "execution_count": null,
   "id": "cec945ca",
   "metadata": {},
   "outputs": [],
   "source": [
    "# def verifica_adjacentes(matriz, u, v, tipo_grafo):\n",
    "# #     men_u = 'Digite o primeiro vértice: '\n",
    "# #     men_v = 'Digite o segundo vértice: '\n",
    "    \n",
    "#     vertices = grafo[\"vertices\"]\n",
    "    \n",
    "#     while True:\n",
    "#         u = input_vertice(men_u)\n",
    "#         if u in vertices:\n",
    "#             break\n",
    "#         else:\n",
    "#             print(\"Vértice inválido. \\nPor favor, digite um dos seguites vértices: \", vertices)\n",
    "    \n",
    "#     while True:\n",
    "#         v = input_vertice(men_v)\n",
    "#         if v in vertices:\n",
    "#             break\n",
    "#         else:\n",
    "#             print(\"Vértice inválido. \\nPor favor, digite um dos seguites vértices: \", vertices)\n",
    "    \n",
    "#     u_idx = grafo[\"vertices\"].index(u)\n",
    "#     v_idx = grafo[\"vertices\"].index(v)\n",
    "    \n",
    "#     if tipo_grafo == \"D\":\n",
    "#         return matriz[u_idx][v_idx] == 1\n",
    "#     elif tipo_grafo == \"ND\":\n",
    "#         return matriz[u_idx][v_idx] == 1 or matriz[v_idx][u_idx] == 1\n"
   ]
  },
  {
   "cell_type": "code",
   "execution_count": null,
   "id": "08458913",
   "metadata": {},
   "outputs": [],
   "source": [
    "matriz"
   ]
  },
  {
   "cell_type": "code",
   "execution_count": null,
   "id": "6e3a82b5",
   "metadata": {
    "scrolled": false
   },
   "outputs": [],
   "source": [
    "verifica_adjacentes(matriz, tipo_grafo)"
   ]
  },
  {
   "cell_type": "markdown",
   "id": "328ad428",
   "metadata": {},
   "source": [
    "### Parte 01 - Calcular o grau de um vértice qualquer"
   ]
  },
  {
   "cell_type": "code",
   "execution_count": null,
   "id": "18e6725e",
   "metadata": {},
   "outputs": [],
   "source": []
  },
  {
   "cell_type": "code",
   "execution_count": null,
   "id": "d0baa414",
   "metadata": {},
   "outputs": [],
   "source": []
  },
  {
   "cell_type": "code",
   "execution_count": null,
   "id": "9b159d05",
   "metadata": {},
   "outputs": [],
   "source": [
    "grafo[\"vertices\"]"
   ]
  },
  {
   "cell_type": "code",
   "execution_count": null,
   "id": "ddb81ff5",
   "metadata": {},
   "outputs": [],
   "source": [
    "def calcular_grau(matriz, tipo_grafo):\n",
    "    men_u = 'Digite um vértice do grafo: '\n",
    "    vertices = grafo[\"vertices\"]\n",
    "    \n",
    "    while True:\n",
    "        u = input_vertice(men_u)\n",
    "        if u in vertices:\n",
    "            break\n",
    "        else:\n",
    "            print(\"Vértice inválido. \\nPor favor, digite um dos seguites vértices: \", vertices)\n",
    "    \n",
    "    u_idx = grafo[\"vertices\"].index(u)        \n",
    "    grau = sum(matriz[u_idx])\n",
    "    \n",
    "    if tipo_grafo == \"ND\":\n",
    "        grau += matriz[u_idx][u_idx]  # Se for não direcionado, conta o loop do vértice\n",
    "    return grau"
   ]
  },
  {
   "cell_type": "code",
   "execution_count": null,
   "id": "8806664e",
   "metadata": {},
   "outputs": [],
   "source": [
    "matriz"
   ]
  },
  {
   "cell_type": "code",
   "execution_count": null,
   "id": "f2b104f3",
   "metadata": {},
   "outputs": [],
   "source": [
    "print(\"Grau de vértice:\", calcular_grau(matriz, tipo_grafo))"
   ]
  },
  {
   "cell_type": "markdown",
   "id": "22dcd967",
   "metadata": {},
   "source": [
    "### Parte 01 - Buscar todos os vizinhos de vértice qualquer"
   ]
  },
  {
   "cell_type": "code",
   "execution_count": null,
   "id": "f33020c8",
   "metadata": {},
   "outputs": [],
   "source": [
    "u = input_vertices()"
   ]
  },
  {
   "cell_type": "code",
   "execution_count": null,
   "id": "92abbe9f",
   "metadata": {},
   "outputs": [],
   "source": [
    "def verifica_vizinhos(matriz, tipo_grafo):\n",
    "    men_u = 'Digite um vértice do grafo: '\n",
    "    vertices = grafo[\"vertices\"]\n",
    "    \n",
    "    while True:\n",
    "        u = input_vertice(men_u)\n",
    "        if u in vertices:\n",
    "            break\n",
    "        else:\n",
    "            print(\"Vértice inválido. \\nPor favor, digite um dos seguites vértices: \", vertices)\n",
    "    \n",
    "    u_idx = grafo[\"vertices\"].index(u)\n",
    "    vizinhos = []\n",
    "\n",
    "    # coloca vizinhos (linha da matriz)\n",
    "    for i in range(len(matriz[u_idx])):\n",
    "        if matriz[u_idx][i] == 1 and grafo[\"vertices\"][i] not in vizinhos:\n",
    "            vizinhos.append(grafo[\"vertices\"][i])\n",
    "\n",
    "    # coloca vizinhos (coluna da matriz) nos grafos não direcionado\n",
    "    if tipo_grafo == \"ND\": \n",
    "        for i in range(len(matriz)):\n",
    "            if matriz[i][u_idx] == 1 and grafo[\"vertices\"][i] not in vizinhos:\n",
    "                vizinhos.append(grafo[\"vertices\"][i])\n",
    "                \n",
    "    return vizinhos"
   ]
  },
  {
   "cell_type": "code",
   "execution_count": null,
   "id": "d346b5e6",
   "metadata": {},
   "outputs": [],
   "source": [
    "matriz"
   ]
  },
  {
   "cell_type": "code",
   "execution_count": null,
   "id": "dc6199e4",
   "metadata": {},
   "outputs": [],
   "source": [
    "print(\"Vizinhos de vértice:\", verifica_vizinhos(matriz, tipo_grafo)) "
   ]
  },
  {
   "cell_type": "markdown",
   "id": "eb654cfe",
   "metadata": {},
   "source": [
    "### Parte 01 - Visitar todas as arestas do grafo"
   ]
  },
  {
   "cell_type": "code",
   "execution_count": null,
   "id": "2dd83632",
   "metadata": {},
   "outputs": [],
   "source": [
    "def visitar_arestas(matriz, tipo_grafo):\n",
    "    arestas_visitadas = []\n",
    "    for i in range(len(matriz)):\n",
    "        for j in range(len(matriz[i])):\n",
    "            if tipo_grafo == \"D\" and matriz[i][j] == 1:\n",
    "                arestas_visitadas.append((grafo[\"vertices\"][i], grafo[\"vertices\"][j]))\n",
    "            elif tipo_grafo == \"ND\" and (matriz[i][j] == 1 or matriz[j][i] == 1):\n",
    "                arestas_visitadas.append((grafo[\"vertices\"][i], grafo[\"vertices\"][j]))\n",
    "    return arestas_visitadas"
   ]
  },
  {
   "cell_type": "code",
   "execution_count": null,
   "id": "99894f4e",
   "metadata": {},
   "outputs": [],
   "source": [
    "# print(\"Visitar arestas do grafo:\")\n",
    "# for aresta in visitar_arestas(matriz, tipo_grafo):\n",
    "#     print(aresta)"
   ]
  },
  {
   "cell_type": "code",
   "execution_count": null,
   "id": "76145098",
   "metadata": {},
   "outputs": [],
   "source": [
    "print(\"Arestas do grafo visitadas: \", visitar_arestas(matriz, tipo_grafo))"
   ]
  },
  {
   "cell_type": "markdown",
   "id": "0be8f2f4",
   "metadata": {},
   "source": [
    "### Parte 01 - Aplicação em Busca"
   ]
  },
  {
   "cell_type": "code",
   "execution_count": null,
   "id": "7439f626",
   "metadata": {},
   "outputs": [],
   "source": [
    "def dfs(grafo, visitados, vertice, componente, tipo_grafo):\n",
    "    visitados[vertice] = True\n",
    "    \n",
    "    if tipo_grafo == 'ND':\n",
    "        componente.append(vertice)\n",
    "        for vizinho in range(len(grafo)):\n",
    "            if grafo[vertice][vizinho] == 1 and not visitados[vizinho]:\n",
    "                dfs(grafo, visitados, vizinho, componente, tipo_grafo)\n",
    "    else: \n",
    "        for vizinho in range(len(grafo)):\n",
    "            if grafo[vertice][vizinho] == 1 and not visitados[vizinho]:\n",
    "                dfs(grafo, visitados, vizinho, componente, tipo_grafo)\n",
    "\n",
    "        componente.append(vertice)\n",
    "\n",
    "def encontrar_ordem_vertices(grafo):\n",
    "    visitados = [False] * len(grafo)\n",
    "    ordem = []\n",
    "    \n",
    "    for vertice in range(len(grafo)):\n",
    "        if not visitados[vertice]:\n",
    "            componente = []  # Definindo a lista componente aqui\n",
    "            dfs(grafo, visitados, vertice, componente, tipo_grafo)\n",
    "            ordem.extend(componente)  # Estendendo a ordem com os vértices da componente\n",
    "            \n",
    "    return ordem\n",
    "\n",
    "def encontrar_componentes_conexos_nao_direcionados(grafo):\n",
    "    visitados = [False] * len(grafo)\n",
    "    componentes_conexos = []\n",
    "    \n",
    "    for vertice in range(len(grafo)):\n",
    "        if not visitados[vertice]:\n",
    "            componente = []\n",
    "            dfs(grafo, visitados, vertice, componente, tipo_grafo)\n",
    "            componentes_conexos.append(componente)\n",
    "    \n",
    "    return componentes_conexos\n",
    "\n",
    "def encontrar_componentes_fortemente_conexos(grafo):\n",
    "    visitados = [False] * len(grafo)\n",
    "    ordem = encontrar_ordem_vertices(grafo)\n",
    "    grafo_transposto = [[grafo[j][i] for j in range(len(grafo))] for i in range(len(grafo))]\n",
    "    componentes_conexos = []\n",
    "    \n",
    "    for vertice in reversed(ordem):\n",
    "        if not visitados[vertice]:\n",
    "            componente = []\n",
    "            dfs(grafo_transposto, visitados, vertice, componente, tipo_grafo)  # Passando o grafo transposto aqui\n",
    "            componentes_conexos.append(componente)\n",
    "    \n",
    "    return componentes_conexos"
   ]
  },
  {
   "cell_type": "code",
   "execution_count": null,
   "id": "45798172",
   "metadata": {},
   "outputs": [],
   "source": [
    "matriz"
   ]
  },
  {
   "cell_type": "code",
   "execution_count": null,
   "id": "504bd6bd",
   "metadata": {},
   "outputs": [],
   "source": [
    "if tipo_grafo == \"ND\":\n",
    "    componentes_nao_direcionados = encontrar_componentes_conexos_nao_direcionados(matriz)\n",
    "    print(\"Componentes Conexos em Grafo Não Direcionado:\", componentes_nao_direcionados)\n",
    "elif tipo_grafo == \"D\":\n",
    "    componentes_fortemente_conexos = encontrar_componentes_fortemente_conexos(matriz)\n",
    "    print(\"Componentes Fortemente Conexos em Grafo Direcionado:\", componentes_fortemente_conexos)"
   ]
  },
  {
   "cell_type": "markdown",
   "id": "935a873c",
   "metadata": {},
   "source": [
    "### Parte 02 - Leitura de um novo arquivo de texto gerado a partir do grafo armazenado"
   ]
  },
  {
   "cell_type": "code",
   "execution_count": 16,
   "id": "bb6d2461",
   "metadata": {},
   "outputs": [
    {
     "data": {
      "image/png": "[encoded data removed]",
      "text/plain": [
       "<Figure size 640x480 with 1 Axes>"
      ]
     },
     "metadata": {},
     "output_type": "display_data"
    }
   ],
   "source": [
    "import networkx as nx\n",
    "import matplotlib.pyplot as plt\n",
    "\n",
    "# Passo 1: Gerar um novo arquivo de texto a partir do grafo armazenado\n",
    "def gerar_arquivo_txt(grafo, nome_arquivo):\n",
    "    with open(nome_arquivo, 'w') as arquivo:\n",
    "        for aresta in grafo[\"arestas\"]:\n",
    "            arquivo.write(','.join(aresta) + '\\n')\n",
    "\n",
    "# Passo 2: Leitura de um novo arquivo de texto gerado a partir do grafo armazenado\n",
    "def ler_grafo_txt(nome_arquivo):\n",
    "    grafo = {\"arestas\": []}\n",
    "    with open(nome_arquivo, 'r') as arquivo:\n",
    "        for linha in arquivo:\n",
    "            v1, v2 = linha.strip().split(',')\n",
    "            grafo[\"arestas\"].append((v1, v2))\n",
    "    return grafo\n",
    "\n",
    "# Passo 3: Usar arquivo novo para visualização\n",
    "def visualizar_grafo(grafo):\n",
    "    G = nx.Graph()\n",
    "    G.add_edges_from(grafo[\"arestas\"])\n",
    "    nx.draw(G, with_labels=True)\n",
    "    plt.show()\n",
    "\n",
    "# Exemplo de uso\n",
    "# nome_arquivo = \"grafo2.txt\"\n",
    "\n",
    "\n",
    "\n",
    "# Passo 1\n",
    "gerar_arquivo_txt(grafo, nome_arquivo)\n",
    "\n",
    "# Passo 2\n",
    "grafo_lido = ler_grafo_txt(nome_arquivo)\n",
    "\n",
    "# Passo 3\n",
    "visualizar_grafo(grafo_lido)"
   ]
  },
  {
   "cell_type": "code",
   "execution_count": 10,
   "id": "8884f347",
   "metadata": {},
   "outputs": [],
   "source": [
    "# Passo 1\n",
    "gerar_arquivo_txt(grafo, nome_arquivo)"
   ]
  },
  {
   "cell_type": "code",
   "execution_count": 14,
   "id": "75d50626",
   "metadata": {},
   "outputs": [
    {
     "name": "stdout",
     "output_type": "stream",
     "text": [
      "Grafo: {'vertices': ['0', '1', '2', '3', '4', '5', '6'], 'arestas': [('3', '1'), ('2', '1'), ('2', '2'), ('5', '6'), ('0', '4'), ('2', '6')]}\n",
      "Tipo de Grafo: 1,0\n"
     ]
    }
   ],
   "source": [
    "grafo_lido = ler_grafo_txt(nome_arquivo)"
   ]
  },
  {
   "cell_type": "code",
   "execution_count": 17,
   "id": "da0a60f4",
   "metadata": {},
   "outputs": [
    {
     "data": {
      "image/png": "[encoded data removed]",
      "text/plain": [
       "<Figure size 640x480 with 1 Axes>"
      ]
     },
     "metadata": {},
     "output_type": "display_data"
    }
   ],
   "source": [
    "# Passo 3\n",
    "visualizar_grafo(grafo_lido)"
   ]
  },
  {
   "cell_type": "markdown",
   "id": "a02115ee",
   "metadata": {},
   "source": [
    "### Parte 02 - Relatório"
   ]
  },
  {
   "cell_type": "code",
   "execution_count": null,
   "id": "5b67c2eb",
   "metadata": {},
   "outputs": [],
   "source": []
  },
  {
   "cell_type": "code",
   "execution_count": null,
   "id": "637b15e5",
   "metadata": {},
   "outputs": [],
   "source": []
  },
  {
   "cell_type": "code",
   "execution_count": null,
   "id": "c6d2a1ff",
   "metadata": {},
   "outputs": [],
   "source": []
  }
 ],
 "metadata": {
  "kernelspec": {
   "display_name": "Python 3 (ipykernel)",
   "language": "python",
   "name": "python3"
  },
  "language_info": {
   "codemirror_mode": {
    "name": "ipython",
    "version": 3
   },
   "file_extension": ".py",
   "mimetype": "text/x-python",
   "name": "python",
   "nbconvert_exporter": "python",
   "pygments_lexer": "ipython3",
   "version": "3.11.5"
  }
 },
 "nbformat": 4,
 "nbformat_minor": 5
}
