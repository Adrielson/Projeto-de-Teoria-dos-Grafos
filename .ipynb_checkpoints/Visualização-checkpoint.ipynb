{
 "cells": [
  {
   "cell_type": "markdown",
   "id": "fe17f73b",
   "metadata": {},
   "source": [
    "### Parte 02 - Leitura de um novo arquivo de texto gerado a partir do grafo armazenado"
   ]
  },
  {
   "cell_type": "code",
   "execution_count": 1,
   "id": "233be48c",
   "metadata": {},
   "outputs": [],
   "source": [
    "import networkx as nx\n",
    "import matplotlib.pyplot as plt"
   ]
  },
  {
   "cell_type": "markdown",
   "id": "77bfdc6e",
   "metadata": {},
   "source": [
    "**3.9 Leitura de um Novo Arquivo de Texto Gerado a Partir do Grafo Armazenado**\n",
    "\n",
    "[Esta seção será preenchida com informações sobre como o novo arquivo de texto contendo a descrição do grafo armazenado foi lido e processado.]"
   ]
  },
  {
   "cell_type": "code",
   "execution_count": 1,
   "id": "131b9bee",
   "metadata": {},
   "outputs": [],
   "source": [
    "def ler_grafo_txt(nome_arquivo):\n",
    "    with open(nome_arquivo, 'r') as arquivo:\n",
    "        tipo_grafo = arquivo.readline().strip()  # lendo tipo de grafo D ou ND\n",
    "    return tipo_grafo\n",
    "\n",
    "nome_arquivo = \"grafo_info.txt\"\n",
    "tipo_grafo = ler_grafo_txt(nome_arquivo)\n"
   ]
  },
  {
   "cell_type": "code",
   "execution_count": 2,
   "id": "98902382",
   "metadata": {},
   "outputs": [
    {
     "data": {
      "text/plain": [
       "'D'"
      ]
     },
     "execution_count": 2,
     "metadata": {},
     "output_type": "execute_result"
    }
   ],
   "source": [
    "tipo_grafo"
   ]
  },
  {
   "cell_type": "code",
   "execution_count": null,
   "id": "de4ccda9",
   "metadata": {},
   "outputs": [],
   "source": []
  }
 ],
 "metadata": {
  "kernelspec": {
   "display_name": "Python 3 (ipykernel)",
   "language": "python",
   "name": "python3"
  },
  "language_info": {
   "codemirror_mode": {
    "name": "ipython",
    "version": 3
   },
   "file_extension": ".py",
   "mimetype": "text/x-python",
   "name": "python",
   "nbconvert_exporter": "python",
   "pygments_lexer": "ipython3",
   "version": "3.11.5"
  }
 },
 "nbformat": 4,
 "nbformat_minor": 5
}
