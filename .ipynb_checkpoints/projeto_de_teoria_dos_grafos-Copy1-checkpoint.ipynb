{
 "cells": [
  {
   "cell_type": "markdown",
   "id": "99c589b1",
   "metadata": {},
   "source": [
    "# Projeto de Teoria dos Grafos"
   ]
  },
  {
   "cell_type": "markdown",
   "id": "6447cb20",
   "metadata": {},
   "source": [
    "### Ler txt: \n",
    "\n",
    "https://www.freecodecamp.org/news/with-open-in-python-with-statement-syntax-example/\n",
    "\n",
    "https://pythonhoje.wordpress.com/2018/02/12/python-3-files/\n"
   ]
  },
  {
   "cell_type": "code",
   "execution_count": 56,
   "id": "645162ac",
   "metadata": {},
   "outputs": [
    {
     "name": "stdout",
     "output_type": "stream",
     "text": [
      "Grafo: {'vertices': ['E', 'H', 'C', 'B', 'D', 'F', 'G', 'A'], 'arestas': [('A', 'B'), ('A', 'F'), ('A', 'H'), ('A', 'E'), ('B', 'A'), ('B', 'C'), ('B', 'F'), ('B', 'G'), ('C', 'B'), ('C', 'D'), ('C', 'G'), ('D', 'C'), ('D', 'E'), ('D', 'G'), ('E', 'A'), ('E', 'H'), ('E', 'G'), ('E', 'D'), ('F', 'A'), ('F', 'B'), ('F', 'G'), ('F', 'H'), ('G', 'B'), ('G', 'C'), ('G', 'D'), ('G', 'E'), ('G', 'F'), ('G', 'H'), ('H', 'A'), ('H', 'E'), ('H', 'F'), ('H', 'G')]}\n",
      "Tipo de Grafo: ND\n",
      "[[0, 1, 0, 0, 1, 0, 1, 1], [1, 0, 0, 0, 0, 1, 1, 1], [0, 0, 0, 1, 1, 0, 1, 0], [0, 0, 1, 0, 0, 1, 1, 1], [1, 0, 1, 0, 0, 0, 1, 0], [0, 1, 0, 1, 0, 0, 1, 1], [1, 1, 1, 1, 1, 1, 0, 0], [1, 1, 0, 1, 0, 1, 0, 0]]\n"
     ]
    }
   ],
   "source": [
    "grafo = {\"vertices\": [], \"arestas\": []}\n",
    "\n",
    "nome_arquivo = \"grafoND.txt\"\n",
    "\n",
    "with open(nome_arquivo, 'r') as arquivo:\n",
    "    tipo_grafo = arquivo.readline().strip() #lendo tipo de grafo D ou ND\n",
    "    \n",
    "\n",
    "    for linha in arquivo: #lendo demais linhas pra guardar arestas e vertices\n",
    "        u, v = linha.strip().split(',') \n",
    "        grafo[\"vertices\"].extend([u, v])\n",
    "        grafo[\"arestas\"].append((u, v))\n",
    "\n",
    "\n",
    "grafo[\"vertices\"] = list(set(grafo[\"vertices\"])) # excluindo vertices duplicados\n",
    "\n",
    "print(\"Grafo:\", grafo)\n",
    "print(\"Tipo de Grafo:\", tipo_grafo)\n",
    "\n",
    "\n",
    "num_vertices = len(grafo[\"vertices\"])\n",
    "matriz = [[0] * num_vertices for _ in range(num_vertices)]\n",
    "    \n",
    "for aresta in grafo[\"arestas\"]:\n",
    "    v1_idx = grafo[\"vertices\"].index(aresta[0])\n",
    "    v2_idx = grafo[\"vertices\"].index(aresta[1])\n",
    "        \n",
    "    # Se o grafo for não dirigido, a matriz será simétrica\n",
    "    # Se for dirigido, apenas uma das posições na matriz será marcada como 1\n",
    "    if tipo_grafo == \"D\":\n",
    "        matriz[v1_idx][v2_idx] = 1\n",
    "    elif tipo_grafo == \"ND\":\n",
    "        matriz[v1_idx][v2_idx] = 1\n",
    "        matriz[v2_idx][v1_idx] = 1\n",
    "        \n",
    "print(matriz)"
   ]
  },
  {
   "cell_type": "code",
   "execution_count": 37,
   "id": "dd14b32b",
   "metadata": {},
   "outputs": [],
   "source": [
    "def ler_arquivo_grafo(nome_arquivo):\n",
    "    grafo = {\"vertices\": [], \"arestas\": []}\n",
    "    \n",
    "    with open(nome_arquivo, 'r') as arquivo:\n",
    "        # Ler a primeira linha para determinar se o grafo é dirigido ou não dirigido\n",
    "        tipo_grafo = arquivo.readline().strip()\n",
    "        \n",
    "        # Ler as linhas subsequentes para obter as arestas do grafo\n",
    "        for linha in arquivo:\n",
    "            v1, v2 = linha.strip().split(',')\n",
    "            grafo[\"vertices\"].extend([v1, v2])\n",
    "            grafo[\"arestas\"].append((v1, v2))\n",
    "    \n",
    "    # Remover vértices duplicados\n",
    "    grafo[\"vertices\"] = list(set(grafo[\"vertices\"]))\n",
    "    \n",
    "    return grafo, tipo_grafo\n",
    "\n",
    "def matriz_adjacencia(grafo, tipo_grafo):\n",
    "    num_vertices = len(grafo[\"vertices\"])\n",
    "    matriz = [[0] * num_vertices for _ in range(num_vertices)]\n",
    "    \n",
    "    for aresta in grafo[\"arestas\"]:\n",
    "        v1_idx = grafo[\"vertices\"].index(aresta[0])\n",
    "        v2_idx = grafo[\"vertices\"].index(aresta[1])\n",
    "        \n",
    "        # Se o grafo for não dirigido, a matriz será simétrica\n",
    "        # Se for dirigido, apenas uma das posições na matriz será marcada como 1\n",
    "        if tipo_grafo == \"D\":\n",
    "            matriz[v1_idx][v2_idx] = 1\n",
    "        elif tipo_grafo == \"ND\":\n",
    "            matriz[v1_idx][v2_idx] = 1\n",
    "            matriz[v2_idx][v1_idx] = 1\n",
    "            \n",
    "    return matriz\n",
    "\n"
   ]
  },
  {
   "cell_type": "code",
   "execution_count": 24,
   "id": "18e3b8de",
   "metadata": {},
   "outputs": [
    {
     "name": "stdout",
     "output_type": "stream",
     "text": [
      "Matriz de Adjacência:\n",
      "[1, 1, 0, 0, 0]\n",
      "[0, 0, 0, 0, 1]\n",
      "[0, 1, 0, 0, 0]\n",
      "[0, 0, 0, 1, 0]\n",
      "[0, 0, 0, 1, 0]\n"
     ]
    }
   ],
   "source": [
    "# Exemplo de uso\n",
    "nome_arquivo = \"grafoD.txt\"  # Nome do arquivo com as informações do grafo\n",
    "grafo, tipo_grafo = ler_arquivo_grafo(nome_arquivo)\n",
    "matriz = matriz_adjacencia(grafo, tipo_grafo)\n",
    "\n",
    "# Visualização da matriz de adjacência\n",
    "print(\"Matriz de Adjacência:\")\n",
    "for linha in matriz:\n",
    "    print(linha)\n"
   ]
  },
  {
   "cell_type": "code",
   "execution_count": 38,
   "id": "18647a57",
   "metadata": {},
   "outputs": [
    {
     "name": "stdout",
     "output_type": "stream",
     "text": [
      "Matriz de Adjacência:\n",
      "[0, 1, 0, 0, 1, 0, 1, 1]\n",
      "[1, 0, 0, 0, 0, 1, 1, 1]\n",
      "[0, 0, 0, 1, 1, 0, 1, 0]\n",
      "[0, 0, 1, 0, 0, 1, 1, 1]\n",
      "[1, 0, 1, 0, 0, 0, 1, 0]\n",
      "[0, 1, 0, 1, 0, 0, 1, 1]\n",
      "[1, 1, 1, 1, 1, 1, 0, 0]\n",
      "[1, 1, 0, 1, 0, 1, 0, 0]\n"
     ]
    }
   ],
   "source": [
    "# Exemplo de uso\n",
    "nome_arquivo = \"grafoND.txt\"  # Nome do arquivo com as informações do grafo\n",
    "grafo, tipo_grafo = ler_arquivo_grafo(nome_arquivo)\n",
    "matriz = matriz_adjacencia(grafo, tipo_grafo)\n",
    "\n",
    "# Visualização da matriz de adjacência\n",
    "print(\"Matriz de Adjacência:\")\n",
    "for linha in matriz:\n",
    "    print(linha)\n"
   ]
  },
  {
   "cell_type": "code",
   "execution_count": 51,
   "id": "57d61d8a",
   "metadata": {
    "scrolled": true
   },
   "outputs": [
    {
     "data": {
      "text/plain": [
       "[[0, 1, 0, 0, 1, 0, 1, 1],\n",
       " [1, 0, 0, 0, 0, 1, 1, 1],\n",
       " [0, 0, 0, 1, 1, 0, 1, 0],\n",
       " [0, 0, 1, 0, 0, 1, 1, 1],\n",
       " [1, 0, 1, 0, 0, 0, 1, 0],\n",
       " [0, 1, 0, 1, 0, 0, 1, 1],\n",
       " [1, 1, 1, 1, 1, 1, 0, 0],\n",
       " [1, 1, 0, 1, 0, 1, 0, 0]]"
      ]
     },
     "execution_count": 51,
     "metadata": {},
     "output_type": "execute_result"
    }
   ],
   "source": [
    "matriz"
   ]
  },
  {
   "cell_type": "code",
   "execution_count": 43,
   "id": "d67cef88",
   "metadata": {},
   "outputs": [],
   "source": [
    "def dfs(grafo, visitados, vertice, componente):\n",
    "    visitados[vertice] = True\n",
    "    componente.append(vertice)\n",
    "    \n",
    "    for vizinho in range(len(grafo)):\n",
    "        if grafo[vertice][vizinho] == 1 and not visitados[vizinho]:\n",
    "            dfs(grafo, visitados, vizinho, componente)\n",
    "\n",
    "def encontrar_componentes_conexos(grafo):\n",
    "    visitados = [False] * len(grafo)\n",
    "    componentes_conexos = []\n",
    "    \n",
    "    for vertice in range(len(grafo)):\n",
    "        if not visitados[vertice]:\n",
    "            componente = []\n",
    "            dfs(grafo, visitados, vertice, componente)\n",
    "            componentes_conexos.append(componente)\n",
    "    \n",
    "    return componentes_conexos"
   ]
  },
  {
   "cell_type": "code",
   "execution_count": 52,
   "id": "814824e9",
   "metadata": {},
   "outputs": [
    {
     "name": "stdout",
     "output_type": "stream",
     "text": [
      "[[0, 1, 5, 3, 2, 4, 6, 7]]\n"
     ]
    }
   ],
   "source": [
    "componentes = encontrar_componentes_conexos(matriz)\n",
    "print(componentes)"
   ]
  },
  {
   "cell_type": "code",
   "execution_count": 44,
   "id": "90d055c6",
   "metadata": {},
   "outputs": [
    {
     "name": "stdout",
     "output_type": "stream",
     "text": [
      "[[0, 1, 2, 4, 3]]\n"
     ]
    }
   ],
   "source": [
    "# Exemplo de uso\n",
    "grafo = [\n",
    "    [0, 1, 0, 0, 1],\n",
    "    [1, 0, 1, 0, 0],\n",
    "    [0, 1, 0, 0, 0],\n",
    "    [0, 0, 0, 0, 1],\n",
    "    [1, 0, 0, 1, 0]\n",
    "]\n",
    "\n",
    "componentes = encontrar_componentes_conexos(grafo)\n",
    "print(componentes)"
   ]
  },
  {
   "cell_type": "code",
   "execution_count": 50,
   "id": "cd531f47",
   "metadata": {},
   "outputs": [
    {
     "name": "stdout",
     "output_type": "stream",
     "text": [
      "[[0, 1], [2, 3, 4]]\n"
     ]
    }
   ],
   "source": [
    "grafo = [\n",
    "    [0, 1, 0, 0, 0],  # Componente 1: 0 está conectado a 1\n",
    "    [1, 0, 0, 0, 0],  #          1 está conectado a 0\n",
    "    [0, 0, 0, 1, 1],  # Componente 2: 2 está conectado a 3\n",
    "    [0, 0, 1, 0, 0],\n",
    "    [0, 0, 1, 0, 0]#          3 está conectado a 2\n",
    "]\n",
    "\n",
    "componentes = encontrar_componentes_conexos(grafo)\n",
    "print(componentes)"
   ]
  },
  {
   "cell_type": "code",
   "execution_count": null,
   "id": "856ede15",
   "metadata": {},
   "outputs": [],
   "source": [
    "##VISUALIZAÇÃO"
   ]
  },
  {
   "cell_type": "code",
   "execution_count": 40,
   "id": "bf4a2df6",
   "metadata": {},
   "outputs": [],
   "source": [
    "# pip install networkx\n",
    "#https://www.askpython.com/course/create-network-graphs-python\n",
    "\n"
   ]
  },
  {
   "cell_type": "code",
   "execution_count": 41,
   "id": "e0a79293",
   "metadata": {},
   "outputs": [],
   "source": [
    "import networkx as nx"
   ]
  },
  {
   "cell_type": "code",
   "execution_count": 42,
   "id": "6ab0b395",
   "metadata": {},
   "outputs": [],
   "source": [
    "G = nx.Graph()\n",
    "G.add_node('A')\n",
    "G.add_nodes_from(['B', 'C', 'D'])\n",
    "G.add_edge('A', 'B')\n",
    "G.add_edges_from([('B', 'C'), ('C', 'D'), ('D', 'A'), ('A', 'C')])\n",
    "nx.write_graphml(G, \"test.graphml\")"
   ]
  }
 ],
 "metadata": {
  "kernelspec": {
   "display_name": "Python 3 (ipykernel)",
   "language": "python",
   "name": "python3"
  },
  "language_info": {
   "codemirror_mode": {
    "name": "ipython",
    "version": 3
   },
   "file_extension": ".py",
   "mimetype": "text/x-python",
   "name": "python",
   "nbconvert_exporter": "python",
   "pygments_lexer": "ipython3",
   "version": "3.11.5"
  }
 },
 "nbformat": 4,
 "nbformat_minor": 5
}
