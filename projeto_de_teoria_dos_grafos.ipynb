{
 "cells": [
  {
   "cell_type": "markdown",
   "id": "8b117fae",
   "metadata": {},
   "source": [
    "# Projeto de Teoria dos Grafos"
   ]
  },
  {
   "cell_type": "markdown",
   "id": "9de79c5d",
   "metadata": {},
   "source": [
    "### Ler txt: \n",
    "\n",
    "https://www.freecodecamp.org/news/with-open-in-python-with-statement-syntax-example/\n",
    "\n",
    "https://pythonhoje.wordpress.com/2018/02/12/python-3-files/\n"
   ]
  },
  {
   "cell_type": "code",
   "execution_count": 59,
   "id": "fbdb38ad",
   "metadata": {},
   "outputs": [
    {
     "name": "stdout",
     "output_type": "stream",
     "text": [
      "Grafo: {'vertices': ['E', 'H', 'C', 'B', 'D', 'F', 'G', 'A'], 'arestas': [('A', 'B'), ('A', 'F'), ('A', 'H'), ('A', 'E'), ('B', 'A'), ('B', 'C'), ('B', 'F'), ('B', 'G'), ('C', 'B'), ('C', 'D'), ('C', 'G'), ('D', 'C'), ('D', 'E'), ('D', 'G'), ('E', 'A'), ('E', 'H'), ('E', 'G'), ('E', 'D'), ('F', 'A'), ('F', 'B'), ('F', 'G'), ('F', 'H'), ('G', 'B'), ('G', 'C'), ('G', 'D'), ('G', 'E'), ('G', 'F'), ('G', 'H'), ('H', 'A'), ('H', 'E'), ('H', 'F'), ('H', 'G')]}\n",
      "Tipo de Grafo: ND\n"
     ]
    }
   ],
   "source": [
    "grafo = {\"vertices\": [], \"arestas\": []}\n",
    "\n",
    "nome_arquivo = \"grafoND.txt\"\n",
    "\n",
    "with open(nome_arquivo, 'r') as arquivo:\n",
    "    tipo_grafo = arquivo.readline().strip() #lendo tipo de grafo D ou ND\n",
    "    \n",
    "\n",
    "    for linha in arquivo: #lendo demais linhas pra guardar arestas e vertices\n",
    "        v1, v2 = linha.strip().split(',') \n",
    "        grafo[\"vertices\"].extend([v1, v2])\n",
    "        grafo[\"arestas\"].append((v1, v2))\n",
    "\n",
    "\n",
    "grafo[\"vertices\"] = list(set(grafo[\"vertices\"])) # excluindo vertices duplicados\n",
    "\n",
    "print(\"Grafo:\", grafo)\n",
    "print(\"Tipo de Grafo:\", tipo_grafo)"
   ]
  },
  {
   "cell_type": "code",
   "execution_count": 60,
   "id": "24d9864e",
   "metadata": {},
   "outputs": [],
   "source": [
    "num_vertices = len(grafo[\"vertices\"])\n",
    "matriz = [[0] * num_vertices for _ in range(num_vertices)]\n",
    "    \n"
   ]
  },
  {
   "cell_type": "code",
   "execution_count": 61,
   "id": "efbb291e",
   "metadata": {},
   "outputs": [
    {
     "data": {
      "text/plain": [
       "[[0, 0, 0, 0, 0, 0, 0, 0],\n",
       " [0, 0, 0, 0, 0, 0, 0, 0],\n",
       " [0, 0, 0, 0, 0, 0, 0, 0],\n",
       " [0, 0, 0, 0, 0, 0, 0, 0],\n",
       " [0, 0, 0, 0, 0, 0, 0, 0],\n",
       " [0, 0, 0, 0, 0, 0, 0, 0],\n",
       " [0, 0, 0, 0, 0, 0, 0, 0],\n",
       " [0, 0, 0, 0, 0, 0, 0, 0]]"
      ]
     },
     "execution_count": 61,
     "metadata": {},
     "output_type": "execute_result"
    }
   ],
   "source": [
    "matriz"
   ]
  },
  {
   "cell_type": "code",
   "execution_count": null,
   "id": "f9f65edc",
   "metadata": {},
   "outputs": [],
   "source": []
  }
 ],
 "metadata": {
  "kernelspec": {
   "display_name": "Python 3 (ipykernel)",
   "language": "python",
   "name": "python3"
  },
  "language_info": {
   "codemirror_mode": {
    "name": "ipython",
    "version": 3
   },
   "file_extension": ".py",
   "mimetype": "text/x-python",
   "name": "python",
   "nbconvert_exporter": "python",
   "pygments_lexer": "ipython3",
   "version": "3.11.5"
  }
 },
 "nbformat": 4,
 "nbformat_minor": 5
}
