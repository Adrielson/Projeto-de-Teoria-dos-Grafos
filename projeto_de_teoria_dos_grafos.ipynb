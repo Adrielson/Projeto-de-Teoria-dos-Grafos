{
 "cells": [
  {
   "cell_type": "markdown",
   "id": "cecfaf12",
   "metadata": {},
   "source": [
    "# Projeto de Teoria dos Grafos"
   ]
  },
  {
   "cell_type": "markdown",
   "id": "33b21f15",
   "metadata": {},
   "source": [
    "### Parte 01 - Entrada de Arquivo\n",
    "\n",
    "https://www.freecodecamp.org/news/with-open-in-python-with-statement-syntax-example/\n",
    "\n",
    "https://pythonhoje.wordpress.com/2018/02/12/python-3-files/\n",
    "\n",
    "https://www.w3schools.com/python/ref_file_readline.asp\n"
   ]
  },
  {
   "cell_type": "code",
   "execution_count": 1,
   "id": "4ddc1c3c",
   "metadata": {},
   "outputs": [],
   "source": [
    "def ler_grafo_txt(nome_arquivo):\n",
    "    grafo = {\"vertices\": [], \"arestas\": []}\n",
    "\n",
    "    with open(nome_arquivo, 'r') as arquivo:\n",
    "        tipo_grafo = arquivo.readline().strip() #lendo tipo de grafo D ou ND\n",
    "\n",
    "\n",
    "        for linha in arquivo: #lendo demais linhas pra guardar arestas e vertices\n",
    "            u, v = linha.strip().split(',') \n",
    "            grafo[\"vertices\"].extend([u, v])\n",
    "            grafo[\"arestas\"].append((u, v))\n",
    "\n",
    "\n",
    "#     grafo[\"vertices\"] = list(set(grafo[\"vertices\"])) # excluindo vertices duplicados\n",
    "    grafo[\"vertices\"] = sorted(list(set(grafo[\"vertices\"])))\n",
    "\n",
    "    print(\"Grafo:\", grafo)\n",
    "    print(\"Tipo de Grafo:\", tipo_grafo)\n",
    "    \n",
    "    return grafo, tipo_grafo"
   ]
  },
  {
   "cell_type": "markdown",
   "id": "0563d6a0",
   "metadata": {},
   "source": [
    "### Parte 01 - Armazenamento na estrutura de dados"
   ]
  },
  {
   "cell_type": "markdown",
   "id": "7988743a",
   "metadata": {},
   "source": [
    "Conceitos: https://algoritmosempython.com.br/cursos/algoritmos-python/algoritmos-grafos/representacao-grafos/\n",
    "\n",
    "\n",
    "Códigos: https://github.com/professordouglasmaioli/Aulas_de_Grafos/blob/main/Matriz_Adjacencias.py]"
   ]
  },
  {
   "cell_type": "code",
   "execution_count": 2,
   "id": "8bcec8c1",
   "metadata": {},
   "outputs": [],
   "source": [
    "def matriz_adjacencia(grafo, tipo_grafo):\n",
    "    num_vertices = len(grafo[\"vertices\"])\n",
    "    matriz = [[0] * num_vertices for _ in range(num_vertices)]\n",
    "\n",
    "    for aresta in grafo[\"arestas\"]:\n",
    "    #     print(\"\\nARESTA: \", aresta)\n",
    "        u_idx = grafo[\"vertices\"].index(aresta[0])\n",
    "        v_idx = grafo[\"vertices\"].index(aresta[1])\n",
    "    #     print(\"u_idx: \", u_idx)\n",
    "    #     print(\"v_idx: \", v_idx)\n",
    "\n",
    "        #D uma das posições recebe 1\n",
    "        if tipo_grafo == \"D\":\n",
    "            matriz[u_idx][v_idx] = 1\n",
    "        #ND cria uma matriz simétrica\n",
    "        elif tipo_grafo == \"ND\":\n",
    "            matriz[u_idx][v_idx] = 1\n",
    "            matriz[v_idx][u_idx] = 1\n",
    "            \n",
    "    return matriz"
   ]
  },
  {
   "cell_type": "code",
   "execution_count": 43,
   "id": "0662a306",
   "metadata": {},
   "outputs": [
    {
     "name": "stdout",
     "output_type": "stream",
     "text": [
      "Grafo: {'vertices': ['A', 'B', 'C', 'D', 'E'], 'arestas': [('A', 'B'), ('B', 'C'), ('C', 'D'), ('E', 'B'), ('C', 'A')]}\n",
      "Tipo de Grafo: D\n"
     ]
    }
   ],
   "source": [
    "nome_arquivo = \"grafoA.txt\" \n",
    "grafo, tipo_grafo = ler_grafo_txt(nome_arquivo)\n",
    "matriz_adj = matriz_adjacencia(grafo, tipo_grafo)"
   ]
  },
  {
   "cell_type": "code",
   "execution_count": 44,
   "id": "0715b827",
   "metadata": {
    "scrolled": true
   },
   "outputs": [
    {
     "data": {
      "text/plain": [
       "[[0, 1, 0, 0, 0],\n",
       " [0, 0, 1, 0, 0],\n",
       " [1, 0, 0, 1, 0],\n",
       " [0, 0, 0, 0, 0],\n",
       " [0, 1, 0, 0, 0]]"
      ]
     },
     "execution_count": 44,
     "metadata": {},
     "output_type": "execute_result"
    }
   ],
   "source": [
    "matriz_adj"
   ]
  },
  {
   "cell_type": "markdown",
   "id": "a637eb6f",
   "metadata": {},
   "source": [
    "### Parte 01 - Apresentar se dois vértices vX e vY são ou não adjacentes"
   ]
  },
  {
   "cell_type": "code",
   "execution_count": null,
   "id": "5da54349",
   "metadata": {},
   "outputs": [],
   "source": [
    "def input_vertice(mensagem):\n",
    "    vertice = input(mensagem)\n",
    "    return vertice"
   ]
  },
  {
   "cell_type": "code",
   "execution_count": null,
   "id": "60f2483f",
   "metadata": {},
   "outputs": [],
   "source": [
    "def verifica_adjacentes(matriz_adj, tipo_grafo):\n",
    "    men_u = 'Digite o primeiro vértice: '\n",
    "    men_v = 'Digite o segundo vértice: '\n",
    "    vertices = grafo[\"vertices\"]\n",
    "    \n",
    "    while True:\n",
    "        u = input_vertice(men_u)\n",
    "        if u in vertices:\n",
    "            break\n",
    "        else:\n",
    "            print(\"Vértice inválido. \\nPor favor, digite um dos seguites vértices: \", vertices)\n",
    "    \n",
    "    while True:\n",
    "        v = input_vertice(men_v)\n",
    "        if v in vertices:\n",
    "            break\n",
    "        else:\n",
    "            print(\"Vértice inválido. \\nPor favor, digite um dos seguites vértices: \", vertices)\n",
    "    u_idx = grafo[\"vertices\"].index(u)\n",
    "    v_idx = grafo[\"vertices\"].index(v)\n",
    "    \n",
    "    if tipo_grafo == \"D\":\n",
    "        if (matriz_adj[u_idx][v_idx] == 1):\n",
    "            print('O vértice', u, 'é adjacente de', v)\n",
    "        else:\n",
    "            print('O vértice', u, 'não é adjacente de ', v)\n",
    "#         return matriz_adj[u_idx][v_idx] == 1\n",
    "    elif tipo_grafo == \"ND\":\n",
    "        if (matriz_adj[u_idx][v_idx] == 1 or matriz_adj[v_idx][u_idx] == 1):\n",
    "            print('Os vértices', u, 'e', v, 'são adjacentes')\n",
    "        else:\n",
    "            print('O vértices', u, 'e', v, 'não são adjacentes')\n",
    "#         return matriz_adj[u_idx][v_idx] == 1 or matriz_adj[v_idx][u_idx] == 1"
   ]
  },
  {
   "cell_type": "code",
   "execution_count": null,
   "id": "e8992244",
   "metadata": {},
   "outputs": [],
   "source": [
    "# def verifica_adjacentes(matriz, u, v, tipo_grafo):\n",
    "# #     men_u = 'Digite o primeiro vértice: '\n",
    "# #     men_v = 'Digite o segundo vértice: '\n",
    "    \n",
    "#     vertices = grafo[\"vertices\"]\n",
    "    \n",
    "#     while True:\n",
    "#         u = input_vertice(men_u)\n",
    "#         if u in vertices:\n",
    "#             break\n",
    "#         else:\n",
    "#             print(\"Vértice inválido. \\nPor favor, digite um dos seguites vértices: \", vertices)\n",
    "    \n",
    "#     while True:\n",
    "#         v = input_vertice(men_v)\n",
    "#         if v in vertices:\n",
    "#             break\n",
    "#         else:\n",
    "#             print(\"Vértice inválido. \\nPor favor, digite um dos seguites vértices: \", vertices)\n",
    "    \n",
    "#     u_idx = grafo[\"vertices\"].index(u)\n",
    "#     v_idx = grafo[\"vertices\"].index(v)\n",
    "    \n",
    "#     if tipo_grafo == \"D\":\n",
    "#         return matriz[u_idx][v_idx] == 1\n",
    "#     elif tipo_grafo == \"ND\":\n",
    "#         return matriz[u_idx][v_idx] == 1 or matriz[v_idx][u_idx] == 1\n"
   ]
  },
  {
   "cell_type": "code",
   "execution_count": null,
   "id": "08458913",
   "metadata": {},
   "outputs": [],
   "source": [
    "matriz_adj"
   ]
  },
  {
   "cell_type": "code",
   "execution_count": null,
   "id": "2db5785d",
   "metadata": {
    "scrolled": false
   },
   "outputs": [],
   "source": [
    "verifica_adjacentes(matriz_adj, tipo_grafo)"
   ]
  },
  {
   "cell_type": "markdown",
   "id": "328ad428",
   "metadata": {},
   "source": [
    "### Parte 01 - Calcular o grau de um vértice qualquer"
   ]
  },
  {
   "cell_type": "code",
   "execution_count": null,
   "id": "ddb81ff5",
   "metadata": {},
   "outputs": [],
   "source": [
    "def calcular_grau(matriz_adj, tipo_grafo):\n",
    "    men_u = 'Digite um vértice do grafo: '\n",
    "    vertices = grafo[\"vertices\"]\n",
    "    \n",
    "    while True:\n",
    "        u = input_vertice(men_u)\n",
    "        if u in vertices:\n",
    "            break\n",
    "        else:\n",
    "            print(\"Vértice inválido. \\nPor favor, digite um dos seguites vértices: \", vertices)\n",
    "    \n",
    "    u_idx = grafo[\"vertices\"].index(u)        \n",
    "    grau = sum(matriz_adj[u_idx])\n",
    "    \n",
    "    if tipo_grafo == \"ND\":\n",
    "        grau += matriz_adj[u_idx][u_idx]  # Se for não direcionado, conta o loop do vértice\n",
    "    return grau"
   ]
  },
  {
   "cell_type": "code",
   "execution_count": null,
   "id": "1a8884a0",
   "metadata": {},
   "outputs": [],
   "source": [
    "matriz_adj"
   ]
  },
  {
   "cell_type": "code",
   "execution_count": null,
   "id": "7c373e19",
   "metadata": {},
   "outputs": [],
   "source": [
    "print(\"Grau de vértice:\", calcular_grau(matriz_adj, tipo_grafo))"
   ]
  },
  {
   "cell_type": "markdown",
   "id": "22dcd967",
   "metadata": {},
   "source": [
    "### Parte 01 - Buscar todos os vizinhos de vértice qualquer"
   ]
  },
  {
   "cell_type": "code",
   "execution_count": null,
   "id": "92abbe9f",
   "metadata": {},
   "outputs": [],
   "source": [
    "def verifica_vizinhos(matriz_adj, tipo_grafo):\n",
    "    men_u = 'Digite um vértice do grafo: '\n",
    "    vertices = grafo[\"vertices\"]\n",
    "    \n",
    "    while True:\n",
    "        u = input_vertice(men_u)\n",
    "        if u in vertices:\n",
    "            break\n",
    "        else:\n",
    "            print(\"Vértice inválido. \\nPor favor, digite um dos seguites vértices: \", vertices)\n",
    "    \n",
    "    u_idx = grafo[\"vertices\"].index(u)\n",
    "    vizinhos = []\n",
    "\n",
    "    # coloca vizinhos (linha da matriz_adj)\n",
    "    for i in range(len(matriz_adj[u_idx])):\n",
    "        if matriz_adj[u_idx][i] == 1 and grafo[\"vertices\"][i] not in vizinhos:\n",
    "            vizinhos.append(grafo[\"vertices\"][i])\n",
    "\n",
    "    # coloca vizinhos (coluna da matriz_adj) nos grafos não direcionado\n",
    "    if tipo_grafo == \"ND\": \n",
    "        for i in range(len(matriz_adj)):\n",
    "            if matriz_adj[i][u_idx] == 1 and grafo[\"vertices\"][i] not in vizinhos:\n",
    "                vizinhos.append(grafo[\"vertices\"][i])\n",
    "                \n",
    "    return vizinhos"
   ]
  },
  {
   "cell_type": "code",
   "execution_count": null,
   "id": "158dd208",
   "metadata": {},
   "outputs": [],
   "source": [
    "matriz_adj"
   ]
  },
  {
   "cell_type": "code",
   "execution_count": null,
   "id": "229a1c48",
   "metadata": {},
   "outputs": [],
   "source": [
    "print(\"Vizinhos de vértice:\", verifica_vizinhos(matriz_adj, tipo_grafo)) "
   ]
  },
  {
   "cell_type": "markdown",
   "id": "eb654cfe",
   "metadata": {},
   "source": [
    "### Parte 01 - Visitar todas as arestas do grafo"
   ]
  },
  {
   "cell_type": "code",
   "execution_count": 5,
   "id": "0188bd14",
   "metadata": {},
   "outputs": [],
   "source": [
    "def visitar_arestas(grafo, tipo_grafo):\n",
    "    num_vertices = len(grafo[\"vertices\"])\n",
    "    matriz = matriz_adj\n",
    "    visitadas = set()\n",
    "    arestas_visitadas = []\n",
    "\n",
    "    for i in range(num_vertices):\n",
    "        for j in range(num_vertices):\n",
    "            # Se a aresta não foi visitada e há uma conexão entre os vértices i e j\n",
    "            if (i, j) not in visitadas and matriz[i][j] == 1:\n",
    "                if tipo_grafo == \"D\" or (tipo_grafo == \"ND\" and j >= i):\n",
    "                    arestas_visitadas.append((grafo[\"vertices\"][i], grafo[\"vertices\"][j]))\n",
    "                    visitadas.add((i, j))\n",
    "                    if tipo_grafo == \"ND\":\n",
    "                        visitadas.add((j, i))\n",
    "\n",
    "    return arestas_visitadas"
   ]
  },
  {
   "cell_type": "code",
   "execution_count": 6,
   "id": "89812a0f",
   "metadata": {},
   "outputs": [
    {
     "name": "stdout",
     "output_type": "stream",
     "text": [
      "Arestas do grafo visitadas:  [('A', 'B'), ('B', 'C'), ('C', 'D'), ('E', 'B')]\n"
     ]
    }
   ],
   "source": [
    "arestas_visitadas = visitar_arestas(grafo, tipo_grafo)\n",
    "print(\"Arestas do grafo visitadas: \", arestas_visitadas)"
   ]
  },
  {
   "cell_type": "code",
   "execution_count": 7,
   "id": "7887afcb",
   "metadata": {},
   "outputs": [
    {
     "data": {
      "text/plain": [
       "[[0, 1, 0, 0, 0],\n",
       " [0, 0, 1, 0, 0],\n",
       " [0, 0, 0, 1, 0],\n",
       " [0, 0, 0, 0, 0],\n",
       " [0, 1, 0, 0, 0]]"
      ]
     },
     "execution_count": 7,
     "metadata": {},
     "output_type": "execute_result"
    }
   ],
   "source": [
    "matriz_adj"
   ]
  },
  {
   "cell_type": "markdown",
   "id": "0be8f2f4",
   "metadata": {},
   "source": [
    "### Parte 01 - Aplicação em Busca"
   ]
  },
  {
   "cell_type": "code",
   "execution_count": 55,
   "id": "5dbfdf74",
   "metadata": {},
   "outputs": [],
   "source": [
    "def dfs(grafo, visitados, vertice, componente, tipo_grafo):\n",
    "    visitados[vertice] = True\n",
    "    \n",
    "    if tipo_grafo == 'ND':\n",
    "#         componente.append(vertice)\n",
    "        for vizinho in range(len(grafo)):\n",
    "            if grafo[vertice][vizinho] == 1 and not visitados[vizinho]:\n",
    "                dfs(grafo, visitados, vizinho, componente, tipo_grafo)\n",
    "        componente.append(vertice)\n",
    "    else: \n",
    "        for vizinho in range(len(grafo)):\n",
    "            if grafo[vertice][vizinho] == 1 and not visitados[vizinho]:\n",
    "                dfs(grafo, visitados, vizinho, componente, tipo_grafo)\n",
    "\n",
    "        componente.append(vertice)\n",
    "\n",
    "def encontrar_ordem_vertices(grafo):\n",
    "    visitados = [False] * len(grafo)\n",
    "    ordem = []\n",
    "    \n",
    "    for vertice in range(len(grafo)):\n",
    "        if not visitados[vertice]:\n",
    "            componente = []  # Definindo a lista componente aqui\n",
    "            dfs(grafo, visitados, vertice, componente, tipo_grafo)\n",
    "            ordem.extend(componente)  # Estendendo a ordem com os vértices da componente\n",
    "            \n",
    "    return ordem\n",
    "\n",
    "def encontrar_componentes_conexos_nao_direcionados(grafo):\n",
    "    visitados = [False] * len(grafo)\n",
    "    componentes_conexos = []\n",
    "    \n",
    "    for vertice in range(len(grafo)):\n",
    "        if not visitados[vertice]:\n",
    "            componente = []\n",
    "            dfs(grafo, visitados, vertice, componente, tipo_grafo)\n",
    "#             componente.sort()\n",
    "            componentes_conexos.append(componente)\n",
    "#             componentes_conexos.append(sorted(componente))\n",
    "    \n",
    "    return componentes_conexos\n",
    "\n",
    "def encontrar_componentes_fortemente_conexos(grafo):\n",
    "    visitados = [False] * len(grafo)\n",
    "    ordem = encontrar_ordem_vertices(grafo)\n",
    "    grafo_transposto = [[grafo[j][i] for j in range(len(grafo))] for i in range(len(grafo))]\n",
    "    componentes_conexos = []\n",
    "    \n",
    "    for vertice in reversed(ordem):\n",
    "        if not visitados[vertice]:\n",
    "            componente = []\n",
    "            dfs(grafo_transposto, visitados, vertice, componente, tipo_grafo)  # Passando o grafo transposto aqui\n",
    "#             componente.sort()\n",
    "            componentes_conexos.append(componente)\n",
    "#             componentes_conexos.append(sorted(componente))\n",
    "    \n",
    "    return componentes_conexos\n",
    "\n",
    "def encontrar_e_imprimir_componentes(grafo, tipo_grafo):\n",
    "    if tipo_grafo == \"ND\":\n",
    "        componentes_nao_direcionados = encontrar_componentes_conexos_nao_direcionados(grafo)\n",
    "        print(\"Componentes Conexos em Grafo Não Direcionado:\", componentes_nao_direcionados)\n",
    "    elif tipo_grafo == \"D\":\n",
    "        componentes_fortemente_conexos = encontrar_componentes_fortemente_conexos(grafo)\n",
    "        print(\"Componentes Fortemente Conexos em Grafo Direcionado:\", componentes_fortemente_conexos)"
   ]
  },
  {
   "cell_type": "code",
   "execution_count": 33,
   "id": "e62822da",
   "metadata": {},
   "outputs": [
    {
     "data": {
      "text/plain": [
       "[[0, 1, 0, 0, 1, 0, 0],\n",
       " [1, 0, 1, 1, 0, 0, 0],\n",
       " [0, 1, 1, 0, 0, 0, 1],\n",
       " [0, 1, 0, 0, 0, 0, 0],\n",
       " [1, 0, 0, 0, 0, 0, 0],\n",
       " [0, 0, 0, 0, 0, 0, 1],\n",
       " [0, 0, 1, 0, 0, 1, 0]]"
      ]
     },
     "execution_count": 33,
     "metadata": {},
     "output_type": "execute_result"
    }
   ],
   "source": [
    "matriz_adj"
   ]
  },
  {
   "cell_type": "code",
   "execution_count": 56,
   "id": "adc13026",
   "metadata": {},
   "outputs": [
    {
     "name": "stdout",
     "output_type": "stream",
     "text": [
      "Componentes Fortemente Conexos em Grafo Direcionado: [[4], [1, 2, 0], [3]]\n"
     ]
    }
   ],
   "source": [
    "encontrar_e_imprimir_componentes(matriz_adj, tipo_grafo)"
   ]
  },
  {
   "cell_type": "markdown",
   "id": "935a873c",
   "metadata": {},
   "source": [
    "### Parte 02 - Leitura de um novo arquivo de texto gerado a partir do grafo armazenado"
   ]
  },
  {
   "cell_type": "code",
   "execution_count": 8,
   "id": "639ee043",
   "metadata": {},
   "outputs": [],
   "source": [
    "import networkx as nx\n",
    "import matplotlib.pyplot as plt"
   ]
  },
  {
   "cell_type": "code",
   "execution_count": 9,
   "id": "0ad7550c",
   "metadata": {},
   "outputs": [],
   "source": [
    "def criar_arquivo_grafo(grafo, tipo_grafo):\n",
    "    matriz = matriz_adj\n",
    "    arestas = visitar_arestas(grafo, tipo_grafo) \n",
    "   \n",
    "    with open(\"grafo_info.txt\", \"w\") as f:\n",
    "        for aresta in arestas:\n",
    "            f.write(f\"{aresta[0]} {aresta[1]}\\n\")"
   ]
  },
  {
   "cell_type": "code",
   "execution_count": 10,
   "id": "0373f3c7",
   "metadata": {},
   "outputs": [],
   "source": [
    "def visualizar_grafo(tipo_grafo):\n",
    "    if tipo_grafo == 'ND':\n",
    "        G = nx.read_edgelist(\"grafo_info.txt\", create_using=nx.Graph())\n",
    "    else:\n",
    "        G = nx.read_edgelist(\"grafo_info.txt\", create_using=nx.DiGraph())\n",
    "    nx.draw(G, with_labels=True, node_color=\"skyblue\", node_size=1500, font_size=12, font_weight=\"bold\", arrows=True)\n",
    "    plt.show()"
   ]
  },
  {
   "cell_type": "code",
   "execution_count": 45,
   "id": "333603c5",
   "metadata": {},
   "outputs": [
    {
     "data": {
      "image/png": "[encoded data removed]",
      "text/plain": [
       "<Figure size 640x480 with 1 Axes>"
      ]
     },
     "metadata": {},
     "output_type": "display_data"
    }
   ],
   "source": [
    "criar_arquivo_grafo(grafo, tipo_grafo)\n",
    "visualizar_grafo(tipo_grafo)"
   ]
  },
  {
   "cell_type": "code",
   "execution_count": null,
   "id": "5b753fd8",
   "metadata": {},
   "outputs": [],
   "source": [
    "matriz_adj"
   ]
  },
  {
   "cell_type": "markdown",
   "id": "a02115ee",
   "metadata": {},
   "source": [
    "### Parte 02 - Relatório"
   ]
  },
  {
   "cell_type": "code",
   "execution_count": null,
   "id": "5b67c2eb",
   "metadata": {},
   "outputs": [],
   "source": []
  }
 ],
 "metadata": {
  "kernelspec": {
   "display_name": "Python 3 (ipykernel)",
   "language": "python",
   "name": "python3"
  },
  "language_info": {
   "codemirror_mode": {
    "name": "ipython",
    "version": 3
   },
   "file_extension": ".py",
   "mimetype": "text/x-python",
   "name": "python",
   "nbconvert_exporter": "python",
   "pygments_lexer": "ipython3",
   "version": "3.11.5"
  }
 },
 "nbformat": 4,
 "nbformat_minor": 5
}
