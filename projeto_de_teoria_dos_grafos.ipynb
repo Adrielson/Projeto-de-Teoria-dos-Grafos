{
 "cells": [
  {
   "cell_type": "markdown",
   "id": "cecfaf12",
   "metadata": {},
   "source": [
    "# Projeto de Teoria dos Grafos"
   ]
  },
  {
   "cell_type": "markdown",
   "id": "33b21f15",
   "metadata": {},
   "source": [
    "### Parte 01 - Entrada de Arquivo\n",
    "\n",
    "https://www.freecodecamp.org/news/with-open-in-python-with-statement-syntax-example/\n",
    "\n",
    "https://pythonhoje.wordpress.com/2018/02/12/python-3-files/\n",
    "\n",
    "https://www.w3schools.com/python/ref_file_readline.asp\n"
   ]
  },
  {
   "cell_type": "code",
   "execution_count": 4,
   "id": "4ddc1c3c",
   "metadata": {},
   "outputs": [],
   "source": [
    "def ler_grafo_txt(nome_arquivo):\n",
    "    grafo = {\"vertices\": [], \"arestas\": []}\n",
    "\n",
    "    with open(nome_arquivo, 'r') as arquivo:\n",
    "        tipo_grafo = arquivo.readline().strip() #lendo tipo de grafo D ou ND\n",
    "\n",
    "\n",
    "        for linha in arquivo: #lendo demais linhas pra guardar arestas e vertices\n",
    "            v1, v2 = linha.strip().split(',') \n",
    "            grafo[\"vertices\"].extend([v1, v2])\n",
    "            grafo[\"arestas\"].append((v1, v2))\n",
    "\n",
    "\n",
    "#     grafo[\"vertices\"] = list(set(grafo[\"vertices\"])) # excluindo vertices duplicados\n",
    "    grafo[\"vertices\"] = sorted(list(set(grafo[\"vertices\"])))#gpt\n",
    "\n",
    "    print(\"Grafo:\", grafo)\n",
    "    print(\"Tipo de Grafo:\", tipo_grafo)\n",
    "    \n",
    "    return grafo, tipo_grafo"
   ]
  },
  {
   "cell_type": "markdown",
   "id": "1f4dd7e7",
   "metadata": {},
   "source": [
    "### Parte 01 - Armazenamento na estrutura de dados"
   ]
  },
  {
   "cell_type": "markdown",
   "id": "7988743a",
   "metadata": {},
   "source": [
    "Conceitos: https://algoritmosempython.com.br/cursos/algoritmos-python/algoritmos-grafos/representacao-grafos/\n",
    "\n",
    "\n",
    "Códigos: https://github.com/professordouglasmaioli/Aulas_de_Grafos/blob/main/Matriz_Adjacencias.py]"
   ]
  },
  {
   "cell_type": "code",
   "execution_count": 5,
   "id": "8bcec8c1",
   "metadata": {},
   "outputs": [],
   "source": [
    "def matriz_adjacencia(grafo, tipo_grafo):\n",
    "    num_vertices = len(grafo[\"vertices\"])\n",
    "    matriz = [[0] * num_vertices for _ in range(num_vertices)]\n",
    "\n",
    "    for aresta in grafo[\"arestas\"]:\n",
    "    #     print(\"\\nARESTA: \", aresta)\n",
    "        v1_idx = grafo[\"vertices\"].index(aresta[0])\n",
    "        v2_idx = grafo[\"vertices\"].index(aresta[1])\n",
    "    #     print(\"v1_idx: \", v1_idx)\n",
    "    #     print(\"v2_idx: \", v2_idx)\n",
    "\n",
    "        #D uma das posições recebe 1\n",
    "        if tipo_grafo == \"D\":\n",
    "            matriz[v1_idx][v2_idx] = 1\n",
    "        #ND cria uma matriz simétrica\n",
    "        elif tipo_grafo == \"ND\":\n",
    "            matriz[v1_idx][v2_idx] = 1\n",
    "            matriz[v2_idx][v1_idx] = 1\n",
    "            \n",
    "    return matriz"
   ]
  },
  {
   "cell_type": "code",
   "execution_count": 6,
   "id": "0662a306",
   "metadata": {},
   "outputs": [
    {
     "name": "stdout",
     "output_type": "stream",
     "text": [
      "Grafo: {'vertices': ['0', '1', '2', '3', '4'], 'arestas': [('4', '4'), ('1', '0'), ('3', '1'), ('2', '1'), ('2', '2')]}\n",
      "Tipo de Grafo: ND\n"
     ]
    }
   ],
   "source": [
    "nome_arquivo = \"grafoND.txt\" \n",
    "grafo, tipo_grafo = ler_grafo_txt(nome_arquivo)\n",
    "matriz = matriz_adjacencia(grafo, tipo_grafo)"
   ]
  },
  {
   "cell_type": "code",
   "execution_count": 7,
   "id": "0715b827",
   "metadata": {
    "scrolled": true
   },
   "outputs": [
    {
     "data": {
      "text/plain": [
       "[[0, 1, 0, 0, 0],\n",
       " [1, 0, 1, 1, 0],\n",
       " [0, 1, 1, 0, 0],\n",
       " [0, 1, 0, 0, 0],\n",
       " [0, 0, 0, 0, 1]]"
      ]
     },
     "execution_count": 7,
     "metadata": {},
     "output_type": "execute_result"
    }
   ],
   "source": [
    "matriz"
   ]
  },
  {
   "cell_type": "markdown",
   "id": "83a34269",
   "metadata": {},
   "source": [
    "### Parte 01 - Apresentar se dois vértices vX e vY são ou não adjacentes"
   ]
  },
  {
   "cell_type": "code",
   "execution_count": 21,
   "id": "c8bcf0b3",
   "metadata": {},
   "outputs": [],
   "source": [
    "def verifica_adjacentes(matriz, v1, v2, tipo_grafo):\n",
    "    v1_idx = grafo[\"vertices\"].index(v1)\n",
    "    v2_idx = grafo[\"vertices\"].index(v2)\n",
    "    \n",
    "    if tipo_grafo == \"D\":\n",
    "        return matriz[v1_idx][v2_idx] == 1\n",
    "    elif tipo_grafo == \"ND\":\n",
    "        return matriz[v1_idx][v2_idx] == 1 or matriz[v2_idx][v1_idx] == 1\n"
   ]
  },
  {
   "cell_type": "code",
   "execution_count": 22,
   "id": "3019770d",
   "metadata": {},
   "outputs": [
    {
     "data": {
      "text/plain": [
       "[[0, 1, 0, 0, 0],\n",
       " [1, 0, 1, 1, 0],\n",
       " [0, 1, 1, 0, 0],\n",
       " [0, 1, 0, 0, 0],\n",
       " [0, 0, 0, 0, 1]]"
      ]
     },
     "execution_count": 22,
     "metadata": {},
     "output_type": "execute_result"
    }
   ],
   "source": [
    "matriz"
   ]
  },
  {
   "cell_type": "code",
   "execution_count": 23,
   "id": "4f6f5830",
   "metadata": {},
   "outputs": [
    {
     "name": "stdout",
     "output_type": "stream",
     "text": [
      "São adjacentes: False\n"
     ]
    }
   ],
   "source": [
    "print(\"São adjacentes:\", verifica_adjacentes(matriz, '0', '2', tipo_grafo))"
   ]
  },
  {
   "cell_type": "code",
   "execution_count": 27,
   "id": "a264ca0e",
   "metadata": {},
   "outputs": [
    {
     "name": "stdout",
     "output_type": "stream",
     "text": [
      "São adjacentes: True\n"
     ]
    }
   ],
   "source": [
    "print(\"São adjacentes:\", verifica_adjacentes(matriz, '0', '1', tipo_grafo))"
   ]
  },
  {
   "cell_type": "markdown",
   "id": "1e6e775d",
   "metadata": {},
   "source": [
    "### Parte 01 - Calcular o grau de um vértice qualquer"
   ]
  },
  {
   "cell_type": "code",
   "execution_count": null,
   "id": "500123f0",
   "metadata": {},
   "outputs": [],
   "source": []
  },
  {
   "cell_type": "markdown",
   "id": "2e4fa4e5",
   "metadata": {},
   "source": [
    "### Parte 01 - Buscar todos os vizinhos de vértice qualquer"
   ]
  },
  {
   "cell_type": "code",
   "execution_count": null,
   "id": "3ec497aa",
   "metadata": {},
   "outputs": [],
   "source": []
  },
  {
   "cell_type": "markdown",
   "id": "6c56d82a",
   "metadata": {},
   "source": [
    "### Parte 01 - Visitar todas as arestas do grafo"
   ]
  },
  {
   "cell_type": "code",
   "execution_count": null,
   "id": "018a728b",
   "metadata": {},
   "outputs": [],
   "source": []
  },
  {
   "cell_type": "markdown",
   "id": "f7e5ea06",
   "metadata": {},
   "source": [
    "### Parte 01 - Aplicação em Busca"
   ]
  },
  {
   "cell_type": "code",
   "execution_count": null,
   "id": "590b1933",
   "metadata": {},
   "outputs": [],
   "source": []
  },
  {
   "cell_type": "markdown",
   "id": "6e253488",
   "metadata": {},
   "source": [
    "### Parte 02 - Leitura de um novo arquivo de texto gerado a partir do grafo armazenado"
   ]
  },
  {
   "cell_type": "code",
   "execution_count": null,
   "id": "061d56e5",
   "metadata": {},
   "outputs": [],
   "source": []
  },
  {
   "cell_type": "markdown",
   "id": "c7b02440",
   "metadata": {},
   "source": [
    "### Parte 02 - Relatório"
   ]
  },
  {
   "cell_type": "code",
   "execution_count": null,
   "id": "bbee98b8",
   "metadata": {},
   "outputs": [],
   "source": []
  }
 ],
 "metadata": {
  "kernelspec": {
   "display_name": "Python 3 (ipykernel)",
   "language": "python",
   "name": "python3"
  },
  "language_info": {
   "codemirror_mode": {
    "name": "ipython",
    "version": 3
   },
   "file_extension": ".py",
   "mimetype": "text/x-python",
   "name": "python",
   "nbconvert_exporter": "python",
   "pygments_lexer": "ipython3",
   "version": "3.11.5"
  }
 },
 "nbformat": 4,
 "nbformat_minor": 5
}
