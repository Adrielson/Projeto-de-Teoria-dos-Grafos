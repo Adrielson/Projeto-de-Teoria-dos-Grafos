{
 "cells": [
  {
   "cell_type": "markdown",
   "id": "cecfaf12",
   "metadata": {},
   "source": [
    "# Projeto de Teoria dos Grafos"
   ]
  },
  {
   "cell_type": "markdown",
   "id": "33b21f15",
   "metadata": {},
   "source": [
    "### Parte 01 - Entrada de Arquivo\n",
    "\n",
    "https://www.freecodecamp.org/news/with-open-in-python-with-statement-syntax-example/\n",
    "\n",
    "https://pythonhoje.wordpress.com/2018/02/12/python-3-files/\n",
    "\n",
    "https://www.w3schools.com/python/ref_file_readline.asp\n"
   ]
  },
  {
   "cell_type": "code",
   "execution_count": 1,
   "id": "4ddc1c3c",
   "metadata": {},
   "outputs": [],
   "source": [
    "def ler_grafo_txt(nome_arquivo):\n",
    "    grafo = {\"vertices\": [], \"arestas\": []}\n",
    "\n",
    "    with open(nome_arquivo, 'r') as arquivo:\n",
    "        tipo_grafo = arquivo.readline().strip() #lendo tipo de grafo D ou ND\n",
    "\n",
    "\n",
    "        for linha in arquivo: #lendo demais linhas pra guardar arestas e vertices\n",
    "            u, v = linha.strip().split(',') \n",
    "            grafo[\"vertices\"].extend([u, v])\n",
    "            grafo[\"arestas\"].append((u, v))\n",
    "\n",
    "\n",
    "#     grafo[\"vertices\"] = list(set(grafo[\"vertices\"])) # excluindo vertices duplicados\n",
    "    grafo[\"vertices\"] = sorted(list(set(grafo[\"vertices\"])))\n",
    "\n",
    "    print(\"Grafo:\", grafo)\n",
    "    print(\"Tipo de Grafo:\", tipo_grafo)\n",
    "    \n",
    "    return grafo, tipo_grafo"
   ]
  },
  {
   "cell_type": "markdown",
   "id": "0563d6a0",
   "metadata": {},
   "source": [
    "### Parte 01 - Armazenamento na estrutura de dados"
   ]
  },
  {
   "cell_type": "markdown",
   "id": "7988743a",
   "metadata": {},
   "source": [
    "Conceitos: https://algoritmosempython.com.br/cursos/algoritmos-python/algoritmos-grafos/representacao-grafos/\n",
    "\n",
    "\n",
    "Códigos: https://github.com/professordouglasmaioli/Aulas_de_Grafos/blob/main/Matriz_Adjacencias.py]"
   ]
  },
  {
   "cell_type": "code",
   "execution_count": 2,
   "id": "8bcec8c1",
   "metadata": {},
   "outputs": [],
   "source": [
    "def matriz_adjacencia(grafo, tipo_grafo):\n",
    "    num_vertices = len(grafo[\"vertices\"])\n",
    "    matriz = [[0] * num_vertices for _ in range(num_vertices)]\n",
    "\n",
    "    for aresta in grafo[\"arestas\"]:\n",
    "    #     print(\"\\nARESTA: \", aresta)\n",
    "        u_idx = grafo[\"vertices\"].index(aresta[0])\n",
    "        v_idx = grafo[\"vertices\"].index(aresta[1])\n",
    "    #     print(\"u_idx: \", u_idx)\n",
    "    #     print(\"v_idx: \", v_idx)\n",
    "\n",
    "        #D uma das posições recebe 1\n",
    "        if tipo_grafo == \"D\":\n",
    "            matriz[u_idx][v_idx] = 1\n",
    "        #ND cria uma matriz simétrica\n",
    "        elif tipo_grafo == \"ND\":\n",
    "            matriz[u_idx][v_idx] = 1\n",
    "            matriz[v_idx][u_idx] = 1\n",
    "            \n",
    "    return matriz"
   ]
  },
  {
   "cell_type": "code",
   "execution_count": 53,
   "id": "0662a306",
   "metadata": {},
   "outputs": [
    {
     "name": "stdout",
     "output_type": "stream",
     "text": [
      "Grafo: {'vertices': ['0', '1', '2', '3', '4'], 'arestas': [('4', '4'), ('1', '0'), ('3', '1'), ('2', '1'), ('2', '2'), ('4', '3'), ('1', '4'), ('0', '2')]}\n",
      "Tipo de Grafo: D\n"
     ]
    }
   ],
   "source": [
    "nome_arquivo = \"grafoD.txt\" \n",
    "grafo, tipo_grafo = ler_grafo_txt(nome_arquivo)\n",
    "matriz = matriz_adjacencia(grafo, tipo_grafo)"
   ]
  },
  {
   "cell_type": "code",
   "execution_count": 4,
   "id": "0715b827",
   "metadata": {
    "scrolled": true
   },
   "outputs": [
    {
     "data": {
      "text/plain": [
       "[[0, 1, 0, 0, 0],\n",
       " [1, 0, 1, 1, 0],\n",
       " [0, 1, 1, 0, 0],\n",
       " [0, 1, 0, 0, 0],\n",
       " [0, 0, 0, 0, 1]]"
      ]
     },
     "execution_count": 4,
     "metadata": {},
     "output_type": "execute_result"
    }
   ],
   "source": [
    "matriz"
   ]
  },
  {
   "cell_type": "markdown",
   "id": "a637eb6f",
   "metadata": {},
   "source": [
    "### Parte 01 - Apresentar se dois vértices vX e vY são ou não adjacentes"
   ]
  },
  {
   "cell_type": "code",
   "execution_count": 5,
   "id": "5da54349",
   "metadata": {},
   "outputs": [],
   "source": [
    "def input_vertice(mensagem):\n",
    "    vertice = input(mensagem)\n",
    "    return vertice"
   ]
  },
  {
   "cell_type": "code",
   "execution_count": 6,
   "id": "60f2483f",
   "metadata": {},
   "outputs": [],
   "source": [
    "def verifica_adjacentes(matriz, tipo_grafo):\n",
    "    men_u = 'Digite o primeiro vértice: '\n",
    "    men_v = 'Digite o segundo vértice: '\n",
    "    vertices = grafo[\"vertices\"]\n",
    "    \n",
    "    while True:\n",
    "        u = input_vertice(men_u)\n",
    "        if u in vertices:\n",
    "            break\n",
    "        else:\n",
    "            print(\"Vértice inválido. \\nPor favor, digite um dos seguites vértices: \", vertices)\n",
    "    \n",
    "    while True:\n",
    "        v = input_vertice(men_v)\n",
    "        if v in vertices:\n",
    "            break\n",
    "        else:\n",
    "            print(\"Vértice inválido. \\nPor favor, digite um dos seguites vértices: \", vertices)\n",
    "    u_idx = grafo[\"vertices\"].index(u)\n",
    "    v_idx = grafo[\"vertices\"].index(v)\n",
    "    \n",
    "    if tipo_grafo == \"D\":\n",
    "        if (matriz[u_idx][v_idx] == 1):\n",
    "            print('O vértice', u, 'é adjacente de', v)\n",
    "        else:\n",
    "            print('O vértice', u, 'não é adjacente de ', v)\n",
    "#         return matriz[u_idx][v_idx] == 1\n",
    "    elif tipo_grafo == \"ND\":\n",
    "        if (matriz[u_idx][v_idx] == 1 or matriz[v_idx][u_idx] == 1):\n",
    "            print('Os vértices', u, 'e', v, 'são adjacentes')\n",
    "        else:\n",
    "            print('O vértices', u, 'e', v, 'não são adjacentes')\n",
    "#         return matriz[u_idx][v_idx] == 1 or matriz[v_idx][u_idx] == 1"
   ]
  },
  {
   "cell_type": "code",
   "execution_count": 7,
   "id": "08458913",
   "metadata": {},
   "outputs": [
    {
     "data": {
      "text/plain": [
       "[[0, 1, 0, 0, 0],\n",
       " [1, 0, 1, 1, 0],\n",
       " [0, 1, 1, 0, 0],\n",
       " [0, 1, 0, 0, 0],\n",
       " [0, 0, 0, 0, 1]]"
      ]
     },
     "execution_count": 7,
     "metadata": {},
     "output_type": "execute_result"
    }
   ],
   "source": [
    "matriz"
   ]
  },
  {
   "cell_type": "code",
   "execution_count": 8,
   "id": "189ecd58",
   "metadata": {
    "scrolled": false
   },
   "outputs": [
    {
     "name": "stdout",
     "output_type": "stream",
     "text": [
      "Digite o primeiro vértice: 0\n",
      "Digite o segundo vértice: 2\n",
      "O vértices 0 e 2 não são adjacentes\n"
     ]
    }
   ],
   "source": [
    "verifica_adjacentes(matriz, tipo_grafo)"
   ]
  },
  {
   "cell_type": "markdown",
   "id": "328ad428",
   "metadata": {},
   "source": [
    "### Parte 01 - Calcular o grau de um vértice qualquer"
   ]
  },
  {
   "cell_type": "code",
   "execution_count": 39,
   "id": "ddb81ff5",
   "metadata": {},
   "outputs": [],
   "source": [
    "def calcular_grau(matriz, tipo_grafo):\n",
    "    men_u = 'Digite um vértice do grafo: '\n",
    "    vertices = grafo[\"vertices\"]\n",
    "    \n",
    "    while True:\n",
    "        u = input_vertice(men_u)\n",
    "        if u in vertices:\n",
    "            break\n",
    "        else:\n",
    "            print(\"Vértice inválido. \\nPor favor, digite um dos seguites vértices: \", vertices)\n",
    "    \n",
    "    u_idx = grafo[\"vertices\"].index(u)        \n",
    "    grau = sum(matriz[u_idx])\n",
    "    \n",
    "    if tipo_grafo == \"ND\":\n",
    "        grau += matriz[u_idx][u_idx]  # Se for não direcionado, conta o loop do vértice\n",
    "    return grau"
   ]
  },
  {
   "cell_type": "code",
   "execution_count": 31,
   "id": "f7060c8d",
   "metadata": {},
   "outputs": [
    {
     "data": {
      "text/plain": [
       "[[0, 0, 1, 0, 0],\n",
       " [1, 0, 0, 0, 1],\n",
       " [0, 1, 1, 0, 1],\n",
       " [0, 1, 0, 0, 0],\n",
       " [0, 0, 0, 1, 1]]"
      ]
     },
     "execution_count": 31,
     "metadata": {},
     "output_type": "execute_result"
    }
   ],
   "source": [
    "matriz"
   ]
  },
  {
   "cell_type": "code",
   "execution_count": 37,
   "id": "0c2e9f63",
   "metadata": {},
   "outputs": [
    {
     "name": "stdout",
     "output_type": "stream",
     "text": [
      "Digite o vértice: p\n",
      "Vértice inválido. \n",
      "Por favor, digite um dos seguites vértices:  ['0', '1', '2', '3', '4']\n",
      "Digite o vértice: 1\n",
      "Grau de vértice: 2\n"
     ]
    }
   ],
   "source": [
    "print(\"Grau de vértice:\", calcular_grau(matriz, tipo_grafo))"
   ]
  },
  {
   "cell_type": "markdown",
   "id": "22dcd967",
   "metadata": {},
   "source": [
    "### Parte 01 - Buscar todos os vizinhos de vértice qualquer"
   ]
  },
  {
   "cell_type": "code",
   "execution_count": 60,
   "id": "92abbe9f",
   "metadata": {},
   "outputs": [],
   "source": [
    "def verifica_vizinhos(matriz, tipo_grafo):\n",
    "    men_u = 'Digite um vértice do grafo: '\n",
    "    vertices = grafo[\"vertices\"]\n",
    "    \n",
    "    while True:\n",
    "        u = input_vertice(men_u)\n",
    "        if u in vertices:\n",
    "            break\n",
    "        else:\n",
    "            print(\"Vértice inválido. \\nPor favor, digite um dos seguites vértices: \", vertices)\n",
    "    \n",
    "    u_idx = grafo[\"vertices\"].index(u)\n",
    "    vizinhos = []\n",
    "\n",
    "    # coloca vizinhos (linha da matriz)\n",
    "    for i in range(len(matriz[u_idx])):\n",
    "        if matriz[u_idx][i] == 1 and grafo[\"vertices\"][i] not in vizinhos:\n",
    "            vizinhos.append(grafo[\"vertices\"][i])\n",
    "\n",
    "    # coloca vizinhos (coluna da matriz) nos grafos não direcionado\n",
    "    if tipo_grafo == \"ND\": \n",
    "        for i in range(len(matriz)):\n",
    "            if matriz[i][u_idx] == 1 and grafo[\"vertices\"][i] not in vizinhos:\n",
    "                vizinhos.append(grafo[\"vertices\"][i])\n",
    "                \n",
    "    return vizinhos"
   ]
  },
  {
   "cell_type": "code",
   "execution_count": 55,
   "id": "f2c206a6",
   "metadata": {},
   "outputs": [
    {
     "data": {
      "text/plain": [
       "[[0, 0, 1, 0, 0],\n",
       " [1, 0, 0, 0, 1],\n",
       " [0, 1, 1, 0, 0],\n",
       " [0, 1, 0, 0, 0],\n",
       " [0, 0, 0, 1, 1]]"
      ]
     },
     "execution_count": 55,
     "metadata": {},
     "output_type": "execute_result"
    }
   ],
   "source": [
    "matriz"
   ]
  },
  {
   "cell_type": "code",
   "execution_count": 59,
   "id": "605c5238",
   "metadata": {},
   "outputs": [
    {
     "name": "stdout",
     "output_type": "stream",
     "text": [
      "Digite um vértice do grafo: 5\n",
      "Vértice inválido. \n",
      "Por favor, digite um dos seguites vértices:  ['0', '1', '2', '3', '4']\n",
      "Digite um vértice do grafo: 4\n",
      "Vizinhos de vértice: ['3', '4']\n"
     ]
    }
   ],
   "source": [
    "print(\"Vizinhos de vértice:\", verifica_vizinhos(matriz, tipo_grafo)) "
   ]
  },
  {
   "cell_type": "markdown",
   "id": "eb654cfe",
   "metadata": {},
   "source": [
    "### Parte 01 - Visitar todas as arestas do grafo"
   ]
  },
  {
   "cell_type": "code",
   "execution_count": null,
   "id": "2dd83632",
   "metadata": {},
   "outputs": [],
   "source": []
  },
  {
   "cell_type": "markdown",
   "id": "0be8f2f4",
   "metadata": {},
   "source": [
    "### Parte 01 - Aplicação em Busca"
   ]
  },
  {
   "cell_type": "code",
   "execution_count": null,
   "id": "1cab6a35",
   "metadata": {},
   "outputs": [],
   "source": []
  },
  {
   "cell_type": "markdown",
   "id": "935a873c",
   "metadata": {},
   "source": [
    "### Parte 02 - Leitura de um novo arquivo de texto gerado a partir do grafo armazenado"
   ]
  },
  {
   "cell_type": "code",
   "execution_count": null,
   "id": "bb6d2461",
   "metadata": {},
   "outputs": [],
   "source": []
  },
  {
   "cell_type": "markdown",
   "id": "a02115ee",
   "metadata": {},
   "source": [
    "### Parte 02 - Relatório"
   ]
  },
  {
   "cell_type": "code",
   "execution_count": null,
   "id": "5b67c2eb",
   "metadata": {},
   "outputs": [],
   "source": []
  }
 ],
 "metadata": {
  "kernelspec": {
   "display_name": "Python 3 (ipykernel)",
   "language": "python",
   "name": "python3"
  },
  "language_info": {
   "codemirror_mode": {
    "name": "ipython",
    "version": 3
   },
   "file_extension": ".py",
   "mimetype": "text/x-python",
   "name": "python",
   "nbconvert_exporter": "python",
   "pygments_lexer": "ipython3",
   "version": "3.11.5"
  }
 },
 "nbformat": 4,
 "nbformat_minor": 5
}
