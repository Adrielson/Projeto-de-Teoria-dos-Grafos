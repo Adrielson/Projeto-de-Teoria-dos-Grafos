{
 "cells": [
  {
   "cell_type": "markdown",
   "id": "4e3afc3d",
   "metadata": {},
   "source": [
    "# Projeto de Teoria dos Grafos"
   ]
  },
  {
   "cell_type": "markdown",
   "id": "e397d66b",
   "metadata": {},
   "source": [
    "### Ler txt: \n",
    "\n",
    "https://www.freecodecamp.org/news/with-open-in-python-with-statement-syntax-example/\n",
    "\n",
    "https://pythonhoje.wordpress.com/2018/02/12/python-3-files/\n"
   ]
  },
  {
   "cell_type": "code",
   "execution_count": 1,
   "id": "fa42f927",
   "metadata": {},
   "outputs": [],
   "source": [
    "def ler_grafo_txt(nome_arquivo):\n",
    "    grafo = {\"vertices\": [], \"arestas\": []}\n",
    "\n",
    "    with open(nome_arquivo, 'r') as arquivo:\n",
    "        tipo_grafo = arquivo.readline().strip() #lendo tipo de grafo D ou ND\n",
    "\n",
    "\n",
    "        for linha in arquivo: #lendo demais linhas pra guardar arestas e vertices\n",
    "            v1, v2 = linha.strip().split(',') \n",
    "            grafo[\"vertices\"].extend([v1, v2])\n",
    "            grafo[\"arestas\"].append((v1, v2))\n",
    "\n",
    "\n",
    "    grafo[\"vertices\"] = list(set(grafo[\"vertices\"])) # excluindo vertices duplicados\n",
    "\n",
    "    print(\"Grafo:\", grafo)\n",
    "    print(\"Tipo de Grafo:\", tipo_grafo)\n",
    "    \n",
    "    return grafo, tipo_grafo"
   ]
  },
  {
   "cell_type": "code",
   "execution_count": 6,
   "id": "55305932",
   "metadata": {},
   "outputs": [],
   "source": [
    "def matriz_adjacencia(grafo, tipo_grafo):\n",
    "    num_vertices = len(grafo[\"vertices\"])\n",
    "    matriz = [[0] * num_vertices for _ in range(num_vertices)]\n",
    "\n",
    "    for aresta in grafo[\"arestas\"]:\n",
    "    #     print(\"\\nARESTA: \", aresta)\n",
    "        v1_idx = grafo[\"vertices\"].index(aresta[0])\n",
    "        v2_idx = grafo[\"vertices\"].index(aresta[1])\n",
    "    #     print(\"v1_idx: \", v1_idx)\n",
    "    #     print(\"v2_idx: \", v2_idx)\n",
    "\n",
    "        #D uma das posições recebe 1\n",
    "        if tipo_grafo == \"D\":\n",
    "            matriz[v1_idx][v2_idx] = 1\n",
    "        #ND cria uma matriz simétrica\n",
    "        elif tipo_grafo == \"ND\":\n",
    "            matriz[v1_idx][v2_idx] = 1\n",
    "            matriz[v2_idx][v1_idx] = 1\n",
    "            \n",
    "    return matriz"
   ]
  },
  {
   "cell_type": "code",
   "execution_count": 7,
   "id": "42e12599",
   "metadata": {},
   "outputs": [
    {
     "name": "stdout",
     "output_type": "stream",
     "text": [
      "Grafo: {'vertices': ['B', 'E', 'C', 'D', 'A'], 'arestas': [('A', 'E'), ('E', 'E'), ('B', 'A'), ('D', 'B'), ('C', 'B'), ('C', 'C')]}\n",
      "Tipo de Grafo: D\n"
     ]
    }
   ],
   "source": [
    "nome_arquivo = \"grafoD.txt\" \n",
    "grafo, tipo_grafo = ler_grafo_txt(nome_arquivo)\n",
    "matriz = matriz_adjacencia(grafo, tipo_grafo)"
   ]
  },
  {
   "cell_type": "code",
   "execution_count": 8,
   "id": "d8f79b54",
   "metadata": {},
   "outputs": [
    {
     "data": {
      "text/plain": [
       "[[0, 0, 0, 0, 1],\n",
       " [0, 1, 0, 0, 0],\n",
       " [1, 0, 1, 0, 0],\n",
       " [1, 0, 0, 0, 0],\n",
       " [0, 1, 0, 0, 0]]"
      ]
     },
     "execution_count": 8,
     "metadata": {},
     "output_type": "execute_result"
    }
   ],
   "source": [
    "matriz"
   ]
  },
  {
   "cell_type": "code",
   "execution_count": null,
   "id": "664f0970",
   "metadata": {},
   "outputs": [],
   "source": []
  }
 ],
 "metadata": {
  "kernelspec": {
   "display_name": "Python 3 (ipykernel)",
   "language": "python",
   "name": "python3"
  },
  "language_info": {
   "codemirror_mode": {
    "name": "ipython",
    "version": 3
   },
   "file_extension": ".py",
   "mimetype": "text/x-python",
   "name": "python",
   "nbconvert_exporter": "python",
   "pygments_lexer": "ipython3",
   "version": "3.11.5"
  }
 },
 "nbformat": 4,
 "nbformat_minor": 5
}
