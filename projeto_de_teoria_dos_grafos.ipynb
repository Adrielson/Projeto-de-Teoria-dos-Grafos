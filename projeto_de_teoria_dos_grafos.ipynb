{
 "cells": [
  {
   "cell_type": "markdown",
   "id": "1f5256d8",
   "metadata": {},
   "source": [
    "# Projeto de Teoria dos Grafos"
   ]
  },
  {
   "cell_type": "markdown",
   "id": "27bcab46",
   "metadata": {},
   "source": [
    "### Ler txt: \n",
    "\n",
    "https://www.freecodecamp.org/news/with-open-in-python-with-statement-syntax-example/\n",
    "\n",
    "https://pythonhoje.wordpress.com/2018/02/12/python-3-files/\n"
   ]
  },
  {
   "cell_type": "code",
   "execution_count": 14,
   "id": "b7cddf1a",
   "metadata": {},
   "outputs": [],
   "source": [
    "def ler_grafo_txt(nome_arquivo):\n",
    "    grafo = {\"vertices\": [], \"arestas\": []}\n",
    "\n",
    "    with open(nome_arquivo, 'r') as arquivo:\n",
    "        tipo_grafo = arquivo.readline().strip() #lendo tipo de grafo D ou ND\n",
    "\n",
    "\n",
    "        for linha in arquivo: #lendo demais linhas pra guardar arestas e vertices\n",
    "            v1, v2 = linha.strip().split(',') \n",
    "            grafo[\"vertices\"].extend([v1, v2])\n",
    "            grafo[\"arestas\"].append((v1, v2))\n",
    "\n",
    "\n",
    "    grafo[\"vertices\"] = list(set(grafo[\"vertices\"])) # excluindo vertices duplicados\n",
    "    grafo[\"vertices\"] = sorted(list(set(grafo[\"vertices\"])))\n",
    "\n",
    "    print(\"Grafo:\", grafo)\n",
    "    print(\"Tipo de Grafo:\", tipo_grafo)\n",
    "    \n",
    "    return grafo, tipo_grafo"
   ]
  },
  {
   "cell_type": "markdown",
   "id": "f2e0e02a",
   "metadata": {},
   "source": [
    "Conceitos: https://algoritmosempython.com.br/cursos/algoritmos-python/algoritmos-grafos/representacao-grafos/\n",
    "\n",
    "\n",
    "Códigos: https://github.com/professordouglasmaioli/Aulas_de_Grafos/blob/main/Matriz_Adjacencias.py]"
   ]
  },
  {
   "cell_type": "code",
   "execution_count": 22,
   "id": "ae8ea4c6",
   "metadata": {},
   "outputs": [],
   "source": [
    "def matriz_adjacencia(grafo, tipo_grafo):\n",
    "    num_vertices = len(grafo[\"vertices\"])\n",
    "    matriz = [[0] * num_vertices for _ in range(num_vertices)]\n",
    "\n",
    "    for aresta in grafo[\"arestas\"]:\n",
    "    #     print(\"\\nARESTA: \", aresta)\n",
    "        v1_idx = grafo[\"vertices\"].index(aresta[0])\n",
    "        v2_idx = grafo[\"vertices\"].index(aresta[1])\n",
    "    #     print(\"v1_idx: \", v1_idx)\n",
    "    #     print(\"v2_idx: \", v2_idx)\n",
    "\n",
    "        #D uma das posições recebe 1\n",
    "        if tipo_grafo == \"D\":\n",
    "            matriz[v1_idx][v2_idx] = 1\n",
    "        #ND cria uma matriz simétrica\n",
    "        elif tipo_grafo == \"ND\":\n",
    "            matriz[v1_idx][v2_idx] = 1\n",
    "            matriz[v2_idx][v1_idx] = 1\n",
    "            \n",
    "    return matriz"
   ]
  },
  {
   "cell_type": "code",
   "execution_count": 18,
   "id": "f2c7b27b",
   "metadata": {},
   "outputs": [
    {
     "name": "stdout",
     "output_type": "stream",
     "text": [
      "Grafo: {'vertices': ['A', 'B', 'C', 'D', 'E'], 'arestas': [('A', 'E'), ('E', 'E'), ('B', 'A'), ('D', 'B'), ('C', 'B'), ('C', 'C')]}\n",
      "Tipo de Grafo: D\n"
     ]
    }
   ],
   "source": [
    "nome_arquivo = \"grafoD.txt\" \n",
    "grafo, tipo_grafo = ler_grafo_txt(nome_arquivo)\n",
    "matriz = matriz_adjacencia(grafo, tipo_grafo)"
   ]
  },
  {
   "cell_type": "code",
   "execution_count": 19,
   "id": "90e5dace",
   "metadata": {},
   "outputs": [
    {
     "data": {
      "text/plain": [
       "[[0, 0, 0, 0, 1],\n",
       " [1, 0, 0, 0, 0],\n",
       " [0, 1, 1, 0, 0],\n",
       " [0, 1, 0, 0, 0],\n",
       " [0, 0, 0, 0, 1]]"
      ]
     },
     "execution_count": 19,
     "metadata": {},
     "output_type": "execute_result"
    }
   ],
   "source": [
    "matriz"
   ]
  },
  {
   "cell_type": "code",
   "execution_count": null,
   "id": "3a424bb4",
   "metadata": {},
   "outputs": [],
   "source": []
  }
 ],
 "metadata": {
  "kernelspec": {
   "display_name": "Python 3 (ipykernel)",
   "language": "python",
   "name": "python3"
  },
  "language_info": {
   "codemirror_mode": {
    "name": "ipython",
    "version": 3
   },
   "file_extension": ".py",
   "mimetype": "text/x-python",
   "name": "python",
   "nbconvert_exporter": "python",
   "pygments_lexer": "ipython3",
   "version": "3.11.5"
  }
 },
 "nbformat": 4,
 "nbformat_minor": 5
}
