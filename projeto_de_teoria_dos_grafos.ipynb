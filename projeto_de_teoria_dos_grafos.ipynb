{
 "cells": [
  {
   "cell_type": "markdown",
   "id": "bccde0e4",
   "metadata": {},
   "source": [
    "# Projeto de Teoria dos Grafos"
   ]
  },
  {
   "cell_type": "markdown",
   "id": "48bed836",
   "metadata": {},
   "source": [
    "### Ler txt: \n",
    "\n",
    "https://www.freecodecamp.org/news/with-open-in-python-with-statement-syntax-example/\n",
    "\n",
    "https://pythonhoje.wordpress.com/2018/02/12/python-3-files/\n"
   ]
  },
  {
   "cell_type": "code",
   "execution_count": 80,
   "id": "f1f70165",
   "metadata": {},
   "outputs": [
    {
     "name": "stdout",
     "output_type": "stream",
     "text": [
      "Grafo: {'vertices': ['E', 'H', 'C', 'B', 'D', 'F', 'G', 'A'], 'arestas': [('A', 'B'), ('A', 'F'), ('A', 'H'), ('A', 'E'), ('B', 'A'), ('B', 'C'), ('B', 'F'), ('B', 'G'), ('C', 'B'), ('C', 'D'), ('C', 'G'), ('D', 'C'), ('D', 'E'), ('D', 'G'), ('E', 'A'), ('E', 'H'), ('E', 'G'), ('E', 'D'), ('F', 'A'), ('F', 'B'), ('F', 'G'), ('F', 'H'), ('G', 'B'), ('G', 'C'), ('G', 'D'), ('G', 'E'), ('G', 'F'), ('G', 'H'), ('H', 'A'), ('H', 'E'), ('H', 'F'), ('H', 'G')]}\n",
      "Tipo de Grafo: D\n"
     ]
    }
   ],
   "source": [
    "grafo = {\"vertices\": [], \"arestas\": []}\n",
    "\n",
    "nome_arquivo = \"grafoD.txt\"\n",
    "\n",
    "with open(nome_arquivo, 'r') as arquivo:\n",
    "    tipo_grafo = arquivo.readline().strip() #lendo tipo de grafo D ou ND\n",
    "    \n",
    "\n",
    "    for linha in arquivo: #lendo demais linhas pra guardar arestas e vertices\n",
    "        v1, v2 = linha.strip().split(',') \n",
    "        grafo[\"vertices\"].extend([v1, v2])\n",
    "        grafo[\"arestas\"].append((v1, v2))\n",
    "\n",
    "\n",
    "grafo[\"vertices\"] = list(set(grafo[\"vertices\"])) # excluindo vertices duplicados\n",
    "\n",
    "print(\"Grafo:\", grafo)\n",
    "print(\"Tipo de Grafo:\", tipo_grafo)"
   ]
  },
  {
   "cell_type": "code",
   "execution_count": 85,
   "id": "11cc90c5",
   "metadata": {},
   "outputs": [
    {
     "name": "stdout",
     "output_type": "stream",
     "text": [
      "\n",
      "ARESTA:  ('A', 'B')\n",
      "v1_idx:  7\n",
      "v2_idx:  3\n",
      "\n",
      "ARESTA:  ('A', 'F')\n",
      "v1_idx:  7\n",
      "v2_idx:  5\n",
      "\n",
      "ARESTA:  ('A', 'H')\n",
      "v1_idx:  7\n",
      "v2_idx:  1\n",
      "\n",
      "ARESTA:  ('A', 'E')\n",
      "v1_idx:  7\n",
      "v2_idx:  0\n",
      "\n",
      "ARESTA:  ('B', 'A')\n",
      "v1_idx:  3\n",
      "v2_idx:  7\n",
      "\n",
      "ARESTA:  ('B', 'C')\n",
      "v1_idx:  3\n",
      "v2_idx:  2\n",
      "\n",
      "ARESTA:  ('B', 'F')\n",
      "v1_idx:  3\n",
      "v2_idx:  5\n",
      "\n",
      "ARESTA:  ('B', 'G')\n",
      "v1_idx:  3\n",
      "v2_idx:  6\n",
      "\n",
      "ARESTA:  ('C', 'B')\n",
      "v1_idx:  2\n",
      "v2_idx:  3\n",
      "\n",
      "ARESTA:  ('C', 'D')\n",
      "v1_idx:  2\n",
      "v2_idx:  4\n",
      "\n",
      "ARESTA:  ('C', 'G')\n",
      "v1_idx:  2\n",
      "v2_idx:  6\n",
      "\n",
      "ARESTA:  ('D', 'C')\n",
      "v1_idx:  4\n",
      "v2_idx:  2\n",
      "\n",
      "ARESTA:  ('D', 'E')\n",
      "v1_idx:  4\n",
      "v2_idx:  0\n",
      "\n",
      "ARESTA:  ('D', 'G')\n",
      "v1_idx:  4\n",
      "v2_idx:  6\n",
      "\n",
      "ARESTA:  ('E', 'A')\n",
      "v1_idx:  0\n",
      "v2_idx:  7\n",
      "\n",
      "ARESTA:  ('E', 'H')\n",
      "v1_idx:  0\n",
      "v2_idx:  1\n",
      "\n",
      "ARESTA:  ('E', 'G')\n",
      "v1_idx:  0\n",
      "v2_idx:  6\n",
      "\n",
      "ARESTA:  ('E', 'D')\n",
      "v1_idx:  0\n",
      "v2_idx:  4\n",
      "\n",
      "ARESTA:  ('F', 'A')\n",
      "v1_idx:  5\n",
      "v2_idx:  7\n",
      "\n",
      "ARESTA:  ('F', 'B')\n",
      "v1_idx:  5\n",
      "v2_idx:  3\n",
      "\n",
      "ARESTA:  ('F', 'G')\n",
      "v1_idx:  5\n",
      "v2_idx:  6\n",
      "\n",
      "ARESTA:  ('F', 'H')\n",
      "v1_idx:  5\n",
      "v2_idx:  1\n",
      "\n",
      "ARESTA:  ('G', 'B')\n",
      "v1_idx:  6\n",
      "v2_idx:  3\n",
      "\n",
      "ARESTA:  ('G', 'C')\n",
      "v1_idx:  6\n",
      "v2_idx:  2\n",
      "\n",
      "ARESTA:  ('G', 'D')\n",
      "v1_idx:  6\n",
      "v2_idx:  4\n",
      "\n",
      "ARESTA:  ('G', 'E')\n",
      "v1_idx:  6\n",
      "v2_idx:  0\n",
      "\n",
      "ARESTA:  ('G', 'F')\n",
      "v1_idx:  6\n",
      "v2_idx:  5\n",
      "\n",
      "ARESTA:  ('G', 'H')\n",
      "v1_idx:  6\n",
      "v2_idx:  1\n",
      "\n",
      "ARESTA:  ('H', 'A')\n",
      "v1_idx:  1\n",
      "v2_idx:  7\n",
      "\n",
      "ARESTA:  ('H', 'E')\n",
      "v1_idx:  1\n",
      "v2_idx:  0\n",
      "\n",
      "ARESTA:  ('H', 'F')\n",
      "v1_idx:  1\n",
      "v2_idx:  5\n",
      "\n",
      "ARESTA:  ('H', 'G')\n",
      "v1_idx:  1\n",
      "v2_idx:  6\n"
     ]
    }
   ],
   "source": [
    "num_vertices = len(grafo[\"vertices\"])\n",
    "matriz = [[0] * num_vertices for _ in range(num_vertices)]\n",
    "    \n",
    "for aresta in grafo[\"arestas\"]:\n",
    "    print(\"\\nARESTA: \", aresta)\n",
    "    v1_idx = grafo[\"vertices\"].index(aresta[0])\n",
    "    v2_idx = grafo[\"vertices\"].index(aresta[1])\n",
    "    print(\"v1_idx: \", v1_idx)\n",
    "    print(\"v2_idx: \", v2_idx)"
   ]
  },
  {
   "cell_type": "code",
   "execution_count": 86,
   "id": "1302bdaf",
   "metadata": {},
   "outputs": [
    {
     "data": {
      "text/plain": [
       "[[0, 0, 0, 0, 0, 0, 0, 0],\n",
       " [0, 0, 0, 0, 0, 0, 0, 0],\n",
       " [0, 0, 0, 0, 0, 0, 0, 0],\n",
       " [0, 0, 0, 0, 0, 0, 0, 0],\n",
       " [0, 0, 0, 0, 0, 0, 0, 0],\n",
       " [0, 0, 0, 0, 0, 0, 0, 0],\n",
       " [0, 0, 0, 0, 0, 0, 0, 0],\n",
       " [0, 0, 0, 0, 0, 0, 0, 0]]"
      ]
     },
     "execution_count": 86,
     "metadata": {},
     "output_type": "execute_result"
    }
   ],
   "source": [
    "matriz\n"
   ]
  },
  {
   "cell_type": "code",
   "execution_count": null,
   "id": "dafbc636",
   "metadata": {},
   "outputs": [],
   "source": []
  }
 ],
 "metadata": {
  "kernelspec": {
   "display_name": "Python 3 (ipykernel)",
   "language": "python",
   "name": "python3"
  },
  "language_info": {
   "codemirror_mode": {
    "name": "ipython",
    "version": 3
   },
   "file_extension": ".py",
   "mimetype": "text/x-python",
   "name": "python",
   "nbconvert_exporter": "python",
   "pygments_lexer": "ipython3",
   "version": "3.11.5"
  }
 },
 "nbformat": 4,
 "nbformat_minor": 5
}
