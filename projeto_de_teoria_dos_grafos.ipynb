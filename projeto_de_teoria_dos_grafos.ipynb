{
 "cells": [
  {
   "cell_type": "markdown",
   "id": "fa2c7d70",
   "metadata": {},
   "source": [
    "# Projeto de Teoria dos Grafos"
   ]
  },
  {
   "cell_type": "markdown",
   "id": "a669bca4",
   "metadata": {},
   "source": [
    "### Ler txt: \n",
    "\n",
    "https://www.freecodecamp.org/news/with-open-in-python-with-statement-syntax-example/\n",
    "\n",
    "https://pythonhoje.wordpress.com/2018/02/12/python-3-files/\n"
   ]
  },
  {
   "cell_type": "code",
   "execution_count": 100,
   "id": "394a88bc",
   "metadata": {},
   "outputs": [
    {
     "name": "stdout",
     "output_type": "stream",
     "text": [
      "Grafo: {'vertices': ['E', 'C', 'B', 'D', 'A'], 'arestas': [('A', 'E'), ('E', 'E'), ('B', 'A'), ('D', 'B'), ('C', 'B'), ('C', 'C')]}\n",
      "Tipo de Grafo: D\n"
     ]
    }
   ],
   "source": [
    "grafo = {\"vertices\": [], \"arestas\": []}\n",
    "\n",
    "nome_arquivo = \"grafoD.txt\"\n",
    "\n",
    "with open(nome_arquivo, 'r') as arquivo:\n",
    "    tipo_grafo = arquivo.readline().strip() #lendo tipo de grafo D ou ND\n",
    "    \n",
    "\n",
    "    for linha in arquivo: #lendo demais linhas pra guardar arestas e vertices\n",
    "        v1, v2 = linha.strip().split(',') \n",
    "        grafo[\"vertices\"].extend([v1, v2])\n",
    "        grafo[\"arestas\"].append((v1, v2))\n",
    "\n",
    "\n",
    "grafo[\"vertices\"] = list(set(grafo[\"vertices\"])) # excluindo vertices duplicados\n",
    "\n",
    "print(\"Grafo:\", grafo)\n",
    "print(\"Tipo de Grafo:\", tipo_grafo)"
   ]
  },
  {
   "cell_type": "code",
   "execution_count": 101,
   "id": "056cc4ee",
   "metadata": {},
   "outputs": [
    {
     "name": "stdout",
     "output_type": "stream",
     "text": [
      "\n",
      "ARESTA:  ('A', 'E')\n",
      "v1_idx:  4\n",
      "v2_idx:  0\n",
      "\n",
      "ARESTA:  ('E', 'E')\n",
      "v1_idx:  0\n",
      "v2_idx:  0\n",
      "\n",
      "ARESTA:  ('B', 'A')\n",
      "v1_idx:  2\n",
      "v2_idx:  4\n",
      "\n",
      "ARESTA:  ('D', 'B')\n",
      "v1_idx:  3\n",
      "v2_idx:  2\n",
      "\n",
      "ARESTA:  ('C', 'B')\n",
      "v1_idx:  1\n",
      "v2_idx:  2\n",
      "\n",
      "ARESTA:  ('C', 'C')\n",
      "v1_idx:  1\n",
      "v2_idx:  1\n"
     ]
    }
   ],
   "source": [
    "num_vertices = len(grafo[\"vertices\"])\n",
    "matriz = [[0] * num_vertices for _ in range(num_vertices)]\n",
    "    \n",
    "for aresta in grafo[\"arestas\"]:\n",
    "    print(\"\\nARESTA: \", aresta)\n",
    "    v1_idx = grafo[\"vertices\"].index(aresta[0])\n",
    "    v2_idx = grafo[\"vertices\"].index(aresta[1])\n",
    "    print(\"v1_idx: \", v1_idx)\n",
    "    print(\"v2_idx: \", v2_idx)\n",
    "        \n",
    "    matriz[v1_idx][v2_idx] = 1\n"
   ]
  },
  {
   "cell_type": "code",
   "execution_count": 102,
   "id": "27fe257d",
   "metadata": {},
   "outputs": [
    {
     "data": {
      "text/plain": [
       "[[1, 0, 0, 0, 0],\n",
       " [0, 1, 1, 0, 0],\n",
       " [0, 0, 0, 0, 1],\n",
       " [0, 0, 1, 0, 0],\n",
       " [1, 0, 0, 0, 0]]"
      ]
     },
     "execution_count": 102,
     "metadata": {},
     "output_type": "execute_result"
    }
   ],
   "source": [
    "matriz"
   ]
  },
  {
   "cell_type": "code",
   "execution_count": null,
   "id": "05d4698d",
   "metadata": {},
   "outputs": [],
   "source": []
  }
 ],
 "metadata": {
  "kernelspec": {
   "display_name": "Python 3 (ipykernel)",
   "language": "python",
   "name": "python3"
  },
  "language_info": {
   "codemirror_mode": {
    "name": "ipython",
    "version": 3
   },
   "file_extension": ".py",
   "mimetype": "text/x-python",
   "name": "python",
   "nbconvert_exporter": "python",
   "pygments_lexer": "ipython3",
   "version": "3.11.5"
  }
 },
 "nbformat": 4,
 "nbformat_minor": 5
}
