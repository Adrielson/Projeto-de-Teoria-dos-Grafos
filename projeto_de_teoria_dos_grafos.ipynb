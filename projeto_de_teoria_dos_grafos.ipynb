{
 "cells": [
  {
   "cell_type": "markdown",
   "id": "cecfaf12",
   "metadata": {},
   "source": [
    "# Projeto de Teoria dos Grafos - Implementação de Representação de Grafos"
   ]
  },
  {
   "cell_type": "markdown",
   "id": "bb8bfc6a",
   "metadata": {},
   "source": [
    "Este relatório descreve o projeto de implementação de uma representação de grafos em Python, utilizando a estrutura de dados de Matriz de Adjacência e explorando a aplicação em busca de Componentes Conexos, especificamente utilizando o algoritmo de busca em profundidade (DFS)."
   ]
  },
  {
   "cell_type": "markdown",
   "id": "33b21f15",
   "metadata": {},
   "source": [
    "### Parte 01 - Entrada de Arquivo"
   ]
  },
  {
   "cell_type": "code",
   "execution_count": 1,
   "id": "6f7ddacb",
   "metadata": {},
   "outputs": [],
   "source": [
    "def ler_grafo_txt(nome_arquivo):\n",
    "    grafo = {\"vertices\": set(), \"arestas\": []}\n",
    "\n",
    "    with open(nome_arquivo, 'r') as arquivo:\n",
    "        tipo_grafo = arquivo.readline().strip()  # lendo tipo de grafo D ou ND\n",
    "\n",
    "        for linha in arquivo:  # lendo demais linhas pra guardar arestas e vertices\n",
    "            u, v = linha.strip().split(',')\n",
    "            grafo[\"vertices\"].add(u.strip())\n",
    "            grafo[\"vertices\"].add(v.strip())\n",
    "            grafo[\"arestas\"].append((u.strip(), v.strip()))\n",
    "\n",
    "    grafo[\"vertices\"] = sorted(list(grafo[\"vertices\"]))\n",
    "\n",
    "    print(\"Grafo:\", grafo)\n",
    "    print(\"Tipo de Grafo:\", tipo_grafo)\n",
    "\n",
    "    return grafo, tipo_grafo"
   ]
  },
  {
   "cell_type": "markdown",
   "id": "0563d6a0",
   "metadata": {},
   "source": [
    "### Parte 01 - Armazenamento na estrutura de dados"
   ]
  },
  {
   "cell_type": "code",
   "execution_count": 2,
   "id": "8bcec8c1",
   "metadata": {},
   "outputs": [],
   "source": [
    "def matriz_adjacencia(grafo, tipo_grafo):\n",
    "    num_vertices = len(grafo[\"vertices\"])\n",
    "    matriz = [[0] * num_vertices for _ in range(num_vertices)]\n",
    "\n",
    "    for aresta in grafo[\"arestas\"]:\n",
    "    #     print(\"\\nARESTA: \", aresta)\n",
    "        u_idx = grafo[\"vertices\"].index(aresta[0])\n",
    "        v_idx = grafo[\"vertices\"].index(aresta[1])\n",
    "    #     print(\"u_idx: \", u_idx)\n",
    "    #     print(\"v_idx: \", v_idx)\n",
    "\n",
    "        #D uma das posições recebe 1\n",
    "        if tipo_grafo == \"D\":\n",
    "            matriz[u_idx][v_idx] = 1\n",
    "        #ND cria uma matriz simétrica\n",
    "        elif tipo_grafo == \"ND\":\n",
    "            matriz[u_idx][v_idx] = 1\n",
    "            matriz[v_idx][u_idx] = 1\n",
    "            \n",
    "    return matriz"
   ]
  },
  {
   "cell_type": "code",
   "execution_count": 19,
   "id": "0662a306",
   "metadata": {},
   "outputs": [
    {
     "name": "stdout",
     "output_type": "stream",
     "text": [
      "Grafo: {'vertices': ['A', 'B', 'C', 'D', 'E', 'F', 'G', 'H', 'I', 'J'], 'arestas': [('A', 'E'), ('B', 'A'), ('B', 'F'), ('B', 'E'), ('C', 'A'), ('C', 'C'), ('D', 'C'), ('E', 'D'), ('F', 'G'), ('G', 'B'), ('I', 'H'), ('J', 'J')]}\n",
      "Tipo de Grafo: D\n"
     ]
    }
   ],
   "source": [
    "nome_arquivo = \"grafoD.txt\" \n",
    "grafo, tipo_grafo = ler_grafo_txt(nome_arquivo)\n",
    "matriz_adj = matriz_adjacencia(grafo, tipo_grafo)"
   ]
  },
  {
   "cell_type": "code",
   "execution_count": 20,
   "id": "0715b827",
   "metadata": {
    "scrolled": true
   },
   "outputs": [
    {
     "data": {
      "text/plain": [
       "[[0, 0, 0, 0, 1, 0, 0, 0, 0, 0],\n",
       " [1, 0, 0, 0, 1, 1, 0, 0, 0, 0],\n",
       " [1, 0, 1, 0, 0, 0, 0, 0, 0, 0],\n",
       " [0, 0, 1, 0, 0, 0, 0, 0, 0, 0],\n",
       " [0, 0, 0, 1, 0, 0, 0, 0, 0, 0],\n",
       " [0, 0, 0, 0, 0, 0, 1, 0, 0, 0],\n",
       " [0, 1, 0, 0, 0, 0, 0, 0, 0, 0],\n",
       " [0, 0, 0, 0, 0, 0, 0, 0, 0, 0],\n",
       " [0, 0, 0, 0, 0, 0, 0, 1, 0, 0],\n",
       " [0, 0, 0, 0, 0, 0, 0, 0, 0, 1]]"
      ]
     },
     "execution_count": 20,
     "metadata": {},
     "output_type": "execute_result"
    }
   ],
   "source": [
    "matriz_adj"
   ]
  },
  {
   "cell_type": "markdown",
   "id": "a637eb6f",
   "metadata": {},
   "source": [
    "### Parte 01 - Apresentar se dois vértices vX e vY são ou não adjacentes"
   ]
  },
  {
   "cell_type": "code",
   "execution_count": 21,
   "id": "5da54349",
   "metadata": {},
   "outputs": [],
   "source": [
    "def input_vertice(mensagem):\n",
    "    vertice = input(mensagem)\n",
    "    return vertice"
   ]
  },
  {
   "cell_type": "code",
   "execution_count": 22,
   "id": "60f2483f",
   "metadata": {},
   "outputs": [],
   "source": [
    "def verifica_adjacentes(matriz_adj, tipo_grafo):\n",
    "    men_u = 'Digite o primeiro vértice: '\n",
    "    men_v = 'Digite o segundo vértice: '\n",
    "    vertices = grafo[\"vertices\"]\n",
    "    \n",
    "    while True:\n",
    "        u = input_vertice(men_u)\n",
    "        if u in vertices:\n",
    "            break\n",
    "        else:\n",
    "            print(\"Vértice inválido. \\nPor favor, digite um dos seguites vértices: \", vertices)\n",
    "    \n",
    "    while True:\n",
    "        v = input_vertice(men_v)\n",
    "        if v in vertices:\n",
    "            break\n",
    "        else:\n",
    "            print(\"Vértice inválido. \\nPor favor, digite um dos seguites vértices: \", vertices)\n",
    "    u_idx = grafo[\"vertices\"].index(u)\n",
    "    v_idx = grafo[\"vertices\"].index(v)\n",
    "    \n",
    "    if tipo_grafo == \"D\":\n",
    "        if (matriz_adj[u_idx][v_idx] == 1):\n",
    "            print('O vértice', u, 'é adjacente de', v)\n",
    "#             return True\n",
    "        else:\n",
    "            print('O vértice', u, 'não é adjacente de ', v)\n",
    "#             return False\n",
    "    elif tipo_grafo == \"ND\":\n",
    "        if (matriz_adj[u_idx][v_idx] == 1 or matriz_adj[v_idx][u_idx] == 1):\n",
    "            print('Os vértices', u, 'e', v, 'são adjacentes')\n",
    "#             return True\n",
    "        else:\n",
    "            print('O vértices', u, 'e', v, 'não são adjacentes')\n",
    "#             return False"
   ]
  },
  {
   "cell_type": "code",
   "execution_count": 23,
   "id": "08458913",
   "metadata": {},
   "outputs": [
    {
     "data": {
      "text/plain": [
       "[[0, 0, 0, 0, 1, 0, 0, 0, 0, 0],\n",
       " [1, 0, 0, 0, 1, 1, 0, 0, 0, 0],\n",
       " [1, 0, 1, 0, 0, 0, 0, 0, 0, 0],\n",
       " [0, 0, 1, 0, 0, 0, 0, 0, 0, 0],\n",
       " [0, 0, 0, 1, 0, 0, 0, 0, 0, 0],\n",
       " [0, 0, 0, 0, 0, 0, 1, 0, 0, 0],\n",
       " [0, 1, 0, 0, 0, 0, 0, 0, 0, 0],\n",
       " [0, 0, 0, 0, 0, 0, 0, 0, 0, 0],\n",
       " [0, 0, 0, 0, 0, 0, 0, 1, 0, 0],\n",
       " [0, 0, 0, 0, 0, 0, 0, 0, 0, 1]]"
      ]
     },
     "execution_count": 23,
     "metadata": {},
     "output_type": "execute_result"
    }
   ],
   "source": [
    "matriz_adj"
   ]
  },
  {
   "cell_type": "code",
   "execution_count": 24,
   "id": "2db5785d",
   "metadata": {
    "scrolled": false
   },
   "outputs": [
    {
     "name": "stdout",
     "output_type": "stream",
     "text": [
      "Digite o primeiro vértice: \n",
      "Vértice inválido. \n",
      "Por favor, digite um dos seguites vértices:  ['A', 'B', 'C', 'D', 'E', 'F', 'G', 'H', 'I', 'J']\n",
      "Digite o primeiro vértice: C\n",
      "Digite o segundo vértice: A\n",
      "O vértice C é adjacente de A\n"
     ]
    }
   ],
   "source": [
    "verifica_adjacentes(matriz_adj, tipo_grafo)"
   ]
  },
  {
   "cell_type": "markdown",
   "id": "328ad428",
   "metadata": {},
   "source": [
    "### Parte 01 - Calcular o grau de um vértice qualquer"
   ]
  },
  {
   "cell_type": "code",
   "execution_count": 25,
   "id": "ddb81ff5",
   "metadata": {},
   "outputs": [],
   "source": [
    "def calcular_grau(matriz_adj, tipo_grafo):\n",
    "    men_u = 'Digite um vértice do grafo: '\n",
    "    vertices = grafo[\"vertices\"]\n",
    "    \n",
    "    while True:\n",
    "        u = input_vertice(men_u)\n",
    "        if u in vertices:\n",
    "            break\n",
    "        else:\n",
    "            print(\"Vértice inválido. \\nPor favor, digite um dos seguites vértices: \", vertices)\n",
    "    \n",
    "    u_idx = grafo[\"vertices\"].index(u)\n",
    "    if tipo_grafo == \"ND\":\n",
    "        grau = sum(matriz_adj[u_idx])\n",
    "        grau += matriz_adj[u_idx][u_idx] \n",
    "    elif tipo_grafo == \"D\":\n",
    "        grau_entrada = sum(matriz_adj[i][u_idx] for i in range(len(vertices)))\n",
    "        grau_saida = sum(matriz_adj[u_idx])\n",
    "        grau = (grau_entrada, grau_saida)\n",
    "    return grau"
   ]
  },
  {
   "cell_type": "code",
   "execution_count": 26,
   "id": "1a8884a0",
   "metadata": {},
   "outputs": [
    {
     "data": {
      "text/plain": [
       "[[0, 0, 0, 0, 1, 0, 0, 0, 0, 0],\n",
       " [1, 0, 0, 0, 1, 1, 0, 0, 0, 0],\n",
       " [1, 0, 1, 0, 0, 0, 0, 0, 0, 0],\n",
       " [0, 0, 1, 0, 0, 0, 0, 0, 0, 0],\n",
       " [0, 0, 0, 1, 0, 0, 0, 0, 0, 0],\n",
       " [0, 0, 0, 0, 0, 0, 1, 0, 0, 0],\n",
       " [0, 1, 0, 0, 0, 0, 0, 0, 0, 0],\n",
       " [0, 0, 0, 0, 0, 0, 0, 0, 0, 0],\n",
       " [0, 0, 0, 0, 0, 0, 0, 1, 0, 0],\n",
       " [0, 0, 0, 0, 0, 0, 0, 0, 0, 1]]"
      ]
     },
     "execution_count": 26,
     "metadata": {},
     "output_type": "execute_result"
    }
   ],
   "source": [
    "matriz_adj"
   ]
  },
  {
   "cell_type": "code",
   "execution_count": 34,
   "id": "7c373e19",
   "metadata": {},
   "outputs": [],
   "source": [
    "# print(\"Grau de vértice:\", calcular_grau(matriz_adj, tipo_grafo))"
   ]
  },
  {
   "cell_type": "code",
   "execution_count": 30,
   "id": "fb1aab36",
   "metadata": {},
   "outputs": [],
   "source": [
    "def exibir_grau_vertice(grau, tipo_grafo):\n",
    "    if tipo_grafo == \"ND\":\n",
    "        print(\"Grau do vértice no grafo não direcionado:\", grau)\n",
    "    elif tipo_grafo == \"D\":\n",
    "        grau_entrada, grau_saida = grau\n",
    "        print(\"Grau de entrada do vértice no grafo dirigido:\", grau_entrada)\n",
    "        print(\"Grau de saída do vértice no grafo dirigido:\", grau_saida)"
   ]
  },
  {
   "cell_type": "code",
   "execution_count": 43,
   "id": "0064aad5",
   "metadata": {},
   "outputs": [
    {
     "name": "stdout",
     "output_type": "stream",
     "text": [
      "Digite um vértice do grafo: B\n",
      "Grau de entrada do vértice no grafo dirigido: 1\n",
      "Grau de saída do vértice no grafo dirigido: 3\n"
     ]
    }
   ],
   "source": [
    "grau_vertice = calcular_grau(matriz_adj, tipo_grafo)\n",
    "exibir_grau_vertice(grau_vertice, tipo_grafo)"
   ]
  },
  {
   "cell_type": "markdown",
   "id": "22dcd967",
   "metadata": {},
   "source": [
    "### Parte 01 - Buscar todos os vizinhos de vértice qualquer"
   ]
  },
  {
   "cell_type": "code",
   "execution_count": 12,
   "id": "92abbe9f",
   "metadata": {},
   "outputs": [],
   "source": [
    "def verifica_vizinhos(matriz_adj, tipo_grafo):\n",
    "    men_u = 'Digite um vértice do grafo: '\n",
    "    vertices = grafo[\"vertices\"]\n",
    "    \n",
    "    while True:\n",
    "        u = input_vertice(men_u)\n",
    "        if u in vertices:\n",
    "            break\n",
    "        else:\n",
    "            print(\"Vértice inválido. \\nPor favor, digite um dos seguites vértices: \", vertices)\n",
    "    \n",
    "    u_idx = grafo[\"vertices\"].index(u)\n",
    "    vizinhos = []\n",
    "\n",
    "    # coloca vizinhos (linha da matriz_adj)\n",
    "    for i in range(len(matriz_adj[u_idx])):\n",
    "        if matriz_adj[u_idx][i] == 1 and grafo[\"vertices\"][i] not in vizinhos:\n",
    "            vizinhos.append(grafo[\"vertices\"][i])\n",
    "\n",
    "    # coloca vizinhos (coluna da matriz_adj) nos grafos não direcionado\n",
    "    if tipo_grafo == \"ND\": \n",
    "        for i in range(len(matriz_adj)):\n",
    "            if matriz_adj[i][u_idx] == 1 and grafo[\"vertices\"][i] not in vizinhos:\n",
    "                vizinhos.append(grafo[\"vertices\"][i])\n",
    "                \n",
    "    return vizinhos"
   ]
  },
  {
   "cell_type": "code",
   "execution_count": 13,
   "id": "158dd208",
   "metadata": {},
   "outputs": [
    {
     "data": {
      "text/plain": [
       "[[0, 1, 1, 1, 0, 0, 0, 0, 1],\n",
       " [1, 0, 1, 0, 0, 0, 0, 0, 0],\n",
       " [1, 1, 0, 0, 0, 0, 0, 0, 0],\n",
       " [1, 0, 0, 0, 0, 0, 0, 1, 0],\n",
       " [0, 0, 0, 0, 0, 1, 0, 0, 0],\n",
       " [0, 0, 0, 0, 1, 0, 0, 0, 0],\n",
       " [0, 0, 0, 0, 0, 0, 1, 0, 0],\n",
       " [0, 0, 0, 1, 0, 0, 0, 1, 1],\n",
       " [1, 0, 0, 0, 0, 0, 0, 1, 0]]"
      ]
     },
     "execution_count": 13,
     "metadata": {},
     "output_type": "execute_result"
    }
   ],
   "source": [
    "matriz_adj"
   ]
  },
  {
   "cell_type": "code",
   "execution_count": 14,
   "id": "229a1c48",
   "metadata": {},
   "outputs": [
    {
     "name": "stdout",
     "output_type": "stream",
     "text": [
      "Digite um vértice do grafo: 0\n",
      "Vizinhos: ['1', '2', '3', '8']\n"
     ]
    }
   ],
   "source": [
    "print(\"Vizinhos:\", verifica_vizinhos(matriz_adj, tipo_grafo)) "
   ]
  },
  {
   "cell_type": "markdown",
   "id": "eb654cfe",
   "metadata": {},
   "source": [
    "### Parte 01 - Visitar todas as arestas do grafo"
   ]
  },
  {
   "cell_type": "code",
   "execution_count": 36,
   "id": "0188bd14",
   "metadata": {},
   "outputs": [],
   "source": [
    "def visitar_arestas(grafo, tipo_grafo):\n",
    "    num_vertices = len(grafo[\"vertices\"])\n",
    "    matriz = matriz_adj\n",
    "    visitadas = set()\n",
    "    arestas_visitadas = []\n",
    "\n",
    "    for i in range(num_vertices):\n",
    "        for j in range(num_vertices):\n",
    "            if (i, j) not in visitadas and matriz[i][j] == 1:\n",
    "                if tipo_grafo == \"D\" or (tipo_grafo == \"ND\" and j >= i):\n",
    "                    arestas_visitadas.append((grafo[\"vertices\"][i], grafo[\"vertices\"][j]))\n",
    "                    visitadas.add((i, j))\n",
    "                    if tipo_grafo == \"ND\":\n",
    "                        visitadas.add((j, i))\n",
    "\n",
    "    return arestas_visitadas"
   ]
  },
  {
   "cell_type": "code",
   "execution_count": 37,
   "id": "89812a0f",
   "metadata": {},
   "outputs": [
    {
     "name": "stdout",
     "output_type": "stream",
     "text": [
      "Arestas do grafo visitadas:  [('A', 'E'), ('B', 'A'), ('B', 'E'), ('B', 'F'), ('C', 'A'), ('C', 'C'), ('D', 'C'), ('E', 'D'), ('F', 'G'), ('G', 'B'), ('I', 'H'), ('J', 'J')]\n"
     ]
    }
   ],
   "source": [
    "arestas_visitadas = visitar_arestas(grafo, tipo_grafo)\n",
    "print(\"Arestas do grafo visitadas: \", arestas_visitadas)"
   ]
  },
  {
   "cell_type": "code",
   "execution_count": null,
   "id": "7887afcb",
   "metadata": {},
   "outputs": [],
   "source": [
    "matriz_adj"
   ]
  },
  {
   "cell_type": "markdown",
   "id": "0be8f2f4",
   "metadata": {},
   "source": [
    "### Parte 01 - Aplicação em Busca"
   ]
  },
  {
   "cell_type": "code",
   "execution_count": 38,
   "id": "6fe3124e",
   "metadata": {},
   "outputs": [],
   "source": [
    "def dfs(matriz_adj, visitados, vertice, componente, tipo_grafo, vertices):\n",
    "    visitados[vertices.index(vertice)] = True\n",
    "    \n",
    "    for vizinho in range(len(matriz_adj)):\n",
    "        if matriz_adj[vertices.index(vertice)][vizinho] == 1 and not visitados[vizinho]:\n",
    "            dfs(matriz_adj, visitados, vertices[vizinho], componente, tipo_grafo, vertices)\n",
    "    componente.append(vertice)\n",
    "\n",
    "def encontrar_ordem_vertices(matriz_adj, vertices):\n",
    "    visitados = [False] * len(matriz_adj)\n",
    "    ordem = []\n",
    "    \n",
    "    for vertice in vertices:\n",
    "        if not visitados[vertices.index(vertice)]:\n",
    "            componente = []  \n",
    "            dfs(matriz_adj, visitados, vertice, componente, tipo_grafo, vertices)\n",
    "            ordem.extend(componente)  \n",
    "    return ordem\n",
    "\n",
    "def encontrar_componentes_conexos_nao_direcionados(matriz_adj, vertices):\n",
    "    visitados = [False] * len(matriz_adj)\n",
    "    componentes_conexos = []\n",
    "    \n",
    "    for vertice in vertices:\n",
    "        if not visitados[vertices.index(vertice)]:\n",
    "            componente = []\n",
    "            dfs(matriz_adj, visitados, vertice, componente, tipo_grafo, vertices)\n",
    "            componentes_conexos.append(componente)\n",
    "    \n",
    "    return componentes_conexos\n",
    "\n",
    "def encontrar_componentes_fortemente_conexos(matriz_adj, vertices):\n",
    "    visitados = [False] * len(matriz_adj)\n",
    "    ordem = encontrar_ordem_vertices(matriz_adj, vertices)\n",
    "    grafo_transposto = [[matriz_adj[j][i] for j in range(len(matriz_adj))] for i in range(len(matriz_adj))]\n",
    "    componentes_conexos = []\n",
    "    \n",
    "    for vertice in reversed(ordem):\n",
    "        if not visitados[vertices.index(vertice)]:\n",
    "            componente = []\n",
    "            dfs(grafo_transposto, visitados, vertice, componente, tipo_grafo, vertices)  \n",
    "            componentes_conexos.append(componente)\n",
    "    \n",
    "    return componentes_conexos\n",
    "\n",
    "def encontrar_e_imprimir_componentes(matriz_adj, tipo_grafo, vertices):\n",
    "    if tipo_grafo == \"ND\":\n",
    "        componentes_nao_direcionados = encontrar_componentes_conexos_nao_direcionados(matriz_adj, vertices)\n",
    "        print(\"Componentes Conexos em Grafo Não Direcionado:\", componentes_nao_direcionados)\n",
    "    elif tipo_grafo == \"D\":\n",
    "        componentes_fortemente_conexos = encontrar_componentes_fortemente_conexos(matriz_adj, vertices)\n",
    "        print(\"Componentes Fortemente Conexos em Grafo Direcionado:\", componentes_fortemente_conexos)\n"
   ]
  },
  {
   "cell_type": "code",
   "execution_count": 39,
   "id": "e62822da",
   "metadata": {},
   "outputs": [
    {
     "data": {
      "text/plain": [
       "[[0, 0, 0, 0, 1, 0, 0, 0, 0, 0],\n",
       " [1, 0, 0, 0, 1, 1, 0, 0, 0, 0],\n",
       " [1, 0, 1, 0, 0, 0, 0, 0, 0, 0],\n",
       " [0, 0, 1, 0, 0, 0, 0, 0, 0, 0],\n",
       " [0, 0, 0, 1, 0, 0, 0, 0, 0, 0],\n",
       " [0, 0, 0, 0, 0, 0, 1, 0, 0, 0],\n",
       " [0, 1, 0, 0, 0, 0, 0, 0, 0, 0],\n",
       " [0, 0, 0, 0, 0, 0, 0, 0, 0, 0],\n",
       " [0, 0, 0, 0, 0, 0, 0, 1, 0, 0],\n",
       " [0, 0, 0, 0, 0, 0, 0, 0, 0, 1]]"
      ]
     },
     "execution_count": 39,
     "metadata": {},
     "output_type": "execute_result"
    }
   ],
   "source": [
    "matriz_adj"
   ]
  },
  {
   "cell_type": "code",
   "execution_count": 40,
   "id": "bd3f98f4",
   "metadata": {},
   "outputs": [
    {
     "name": "stdout",
     "output_type": "stream",
     "text": [
      "Componentes Fortemente Conexos em Grafo Direcionado: [['J'], ['I'], ['H'], ['F', 'G', 'B'], ['E', 'D', 'C', 'A']]\n"
     ]
    }
   ],
   "source": [
    "vertices = grafo[\"vertices\"]\n",
    "encontrar_e_imprimir_componentes(matriz_adj, tipo_grafo, vertices)"
   ]
  },
  {
   "cell_type": "markdown",
   "id": "4515050a",
   "metadata": {},
   "source": [
    "### Parte 01 - Criar novo TXT"
   ]
  },
  {
   "cell_type": "code",
   "execution_count": 41,
   "id": "9947379b",
   "metadata": {},
   "outputs": [],
   "source": [
    "def criar_arquivo_grafo(matriz_adj, tipo_grafo):\n",
    "    matriz = matriz_adj\n",
    "    arestas = visitar_arestas(grafo, tipo_grafo) \n",
    "   \n",
    "    with open(\"grafo_info.txt\", \"w\") as f:\n",
    "        if tipo_grafo == 'ND':\n",
    "            f.write(f\"ND\\n\")\n",
    "        else:\n",
    "            f.write(f\"D\\n\")\n",
    "        for aresta in arestas:\n",
    "            f.write(f\"{aresta[0]} {aresta[1]}\\n\")"
   ]
  },
  {
   "cell_type": "code",
   "execution_count": 42,
   "id": "f44144ab",
   "metadata": {},
   "outputs": [],
   "source": [
    "criar_arquivo_grafo(grafo, tipo_grafo)"
   ]
  },
  {
   "cell_type": "markdown",
   "id": "fb8bd08d",
   "metadata": {},
   "source": [
    "Materiais de estudo:\n",
    "\n",
    "https://www.freecodecamp.org/news/with-open-in-python-with-statement-syntax-example/\n",
    "\n",
    "https://pythonhoje.wordpress.com/2018/02/12/python-3-files/\n",
    "\n",
    "https://www.w3schools.com/python/ref_file_readline.asp\n",
    "\n",
    "https://algoritmosempython.com.br/cursos/algoritmos-python/algoritmos-grafos/representacao-grafos/\n",
    "\n",
    "https://github.com/professordouglasmaioli/Aulas_de_Grafos/blob/main/Matriz_Adjacencias.py]"
   ]
  },
  {
   "cell_type": "code",
   "execution_count": null,
   "id": "b1475dfa",
   "metadata": {},
   "outputs": [],
   "source": []
  }
 ],
 "metadata": {
  "kernelspec": {
   "display_name": "Python 3 (ipykernel)",
   "language": "python",
   "name": "python3"
  },
  "language_info": {
   "codemirror_mode": {
    "name": "ipython",
    "version": 3
   },
   "file_extension": ".py",
   "mimetype": "text/x-python",
   "name": "python",
   "nbconvert_exporter": "python",
   "pygments_lexer": "ipython3",
   "version": "3.11.5"
  }
 },
 "nbformat": 4,
 "nbformat_minor": 5
}
